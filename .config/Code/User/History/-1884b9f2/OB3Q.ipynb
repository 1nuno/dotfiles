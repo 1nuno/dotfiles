{
 "cells": [
  {
   "cell_type": "markdown",
   "metadata": {},
   "source": [
    "## Informação Mútua"
   ]
  },
  {
   "cell_type": "code",
   "execution_count": 1,
   "metadata": {},
   "outputs": [
    {
     "name": "stdout",
     "output_type": "stream",
     "text": [
      "O valor da Informação Mútua é: 1.4219280948873623\n"
     ]
    }
   ],
   "source": [
    "#conta do valor de P(x,y) * log2 (P(x,y)/(P(x)*P(y)))\n",
    "import math\n",
    "\n",
    "def calcular_informacao_mutua(nx, ny, nyx, N):\n",
    "    termo1 = (nx / N)\n",
    "    termo2 = math.log2((nyx / N) / ((ny / N) * (nx / N)))\n",
    "\n",
    "    elemento = termo1 + termo2\n",
    "    return elemento\n",
    "\n",
    "# Exemplo de uso\n",
    "nx = 10  # número de ocorrências da variável X\n",
    "ny = 20  # número de ocorrências da variável Y\n",
    "nyx = 5  # número de ocorrências conjuntas de X e Y\n",
    "N = 100  # número total de observações\n",
    "\n",
    "resultado = calcular_informacao_mutua(nx, ny, nyx, N)\n",
    "print(f\"O valor da Informação Mútua é: {resultado}\")\n"
   ]
  },
  {
   "cell_type": "code",
   "execution_count": 2,
   "metadata": {},
   "outputs": [
    {
     "name": "stdout",
     "output_type": "stream",
     "text": [
      "A Informação Mútua total é: 0.04487743630674444\n"
     ]
    }
   ],
   "source": [
    "import numpy as np\n",
    "from scipy.stats import entropy\n",
    "\n",
    "def calcular_informacao_mutua_total(contingency_table):\n",
    "    # Calcular as probabilidades marginais\n",
    "    marginais_x = np.sum(contingency_table, axis=1) / np.sum(contingency_table)\n",
    "    marginais_y = np.sum(contingency_table, axis=0) / np.sum(contingency_table)\n",
    "\n",
    "    # Calcular a probabilidade conjunta\n",
    "    conjunta = contingency_table / np.sum(contingency_table)\n",
    "\n",
    "    # Calcular a Informação Mútua total\n",
    "    informacao_mutua_total = np.sum([conjunta[i, j] * np.log2(conjunta[i, j] / (marginais_x[i] * marginais_y[j]))\n",
    "                                     for i in range(contingency_table.shape[0])\n",
    "                                     for j in range(contingency_table.shape[1])\n",
    "                                     if conjunta[i, j] > 0])\n",
    "\n",
    "    return informacao_mutua_total\n",
    "\n",
    "# Exemplo de uso com uma tabela de contingência\n",
    "tabela_contingencia = np.array([[4, 4,9], [1, 2,1]])\n",
    "resultado = calcular_informacao_mutua_total(tabela_contingencia)\n",
    "\n",
    "print(f\"A Informação Mútua total é: {resultado}\")\n"
   ]
  },
  {
   "cell_type": "markdown",
   "metadata": {},
   "source": [
    "## Goodman Kruskal"
   ]
  },
  {
   "cell_type": "code",
   "execution_count": 3,
   "metadata": {},
   "outputs": [
    {
     "name": "stdout",
     "output_type": "stream",
     "text": [
      "3.0\n",
      "0.0\n"
     ]
    }
   ],
   "source": [
    "tabela_contingencia = np.array([[6, 1], [2, 2]])\n",
    "total = np.sum(tabela_contingencia)\n",
    "\n",
    "Pe = 1 - np.max(np.sum(tabela_contingencia, axis=0))/total\n",
    "print(Pe*11)\n",
    "Pey = 1 - (np.max(tabela_contingencia[0])+np.max(tabela_contingencia[1]))/total\n",
    "\n",
    "y = (Pe- Pey)/Pe\n",
    "print(y)\n",
    "\n"
   ]
  },
  {
   "cell_type": "markdown",
   "metadata": {},
   "source": [
    "## 2b recurso - Implementar KNN"
   ]
  },
  {
   "cell_type": "code",
   "execution_count": 4,
   "metadata": {},
   "outputs": [
    {
     "name": "stdout",
     "output_type": "stream",
     "text": [
      "Os 5 vizinhos mais próximos para o ponto [[10 10]] são:\n",
      "Vizinho 1: Ponto 3 - Distância: 2.0000\n",
      "Vizinho 2: Ponto 16 - Distância: 2.0000\n",
      "Vizinho 3: Ponto 13 - Distância: 2.2361\n",
      "Vizinho 4: Ponto 10 - Distância: 2.2361\n",
      "Vizinho 5: Ponto 15 - Distância: 5.0000\n"
     ]
    }
   ],
   "source": [
    "from sklearn.neighbors import NearestNeighbors\n",
    "import numpy as np\n",
    "\n",
    "# Criar um conjunto de dados de exemplo\n",
    "dados = np.array([[4, 5],\n",
    "                  [3, 6],\n",
    "                  [4, 8],\n",
    "                  [8, 10],\n",
    "                  [6, 1],\n",
    "                  [18, 5],\n",
    "                  [8, 16],\n",
    "                  [3, 0],\n",
    "                  [18, 18],\n",
    "                  [19, 14],\n",
    "                  [8, 9],\n",
    "                  [2, 11],\n",
    "                  [5, 4],\n",
    "                  [8, 9],\n",
    "                  [11, 19],\n",
    "                  [5, 10],\n",
    "                  [12, 10]])\n",
    "\n",
    "# Especificar o número de vizinhos que você deseja encontrar\n",
    "k_vizinhos = 5\n",
    "\n",
    "# Ponto para o qual você quer encontrar os vizinhos mais próximos\n",
    "ponto_teste = np.array([[10, 10]])\n",
    "\n",
    "# Inicializar o modelo k-NN\n",
    "modelo_vizinhos = NearestNeighbors(n_neighbors=k_vizinhos, algorithm='ball_tree')\n",
    "modelo_vizinhos.fit(dados)\n",
    "\n",
    "# Encontrar os vizinhos mais próximos para o ponto de teste\n",
    "distancias, indices_vizinhos = modelo_vizinhos.kneighbors(ponto_teste)\n",
    "\n",
    "# Exibir os resultados\n",
    "print(f\"Os {k_vizinhos} vizinhos mais próximos para o ponto {ponto_teste} são:\")\n",
    "for i in range(k_vizinhos):\n",
    "    vizinho = dados[indices_vizinhos[0][i]]\n",
    "    distancia = distancias[0][i]\n",
    "    print(f\"Vizinho {i + 1}: Ponto {indices_vizinhos[0][i]} - Distância: {distancia:.4f}\")\n"
   ]
  },
  {
   "cell_type": "markdown",
   "metadata": {},
   "source": [
    "## FDA\n",
    "\n",
    "Determine a projeção que maximiza a separabilidade das duas classes C1 e C2,"
   ]
  },
  {
   "cell_type": "code",
   "execution_count": 5,
   "metadata": {},
   "outputs": [
    {
     "name": "stdout",
     "output_type": "stream",
     "text": [
      "[[-0.09547776]\n",
      " [ 0.02142844]]\n"
     ]
    }
   ],
   "source": [
    "C1= np.array([\n",
    "    [4, 5], [3, 6], [4, 8], [8, 10], [6, 1], [18, 5], [8, 16], [3, 0],\n",
    "    [18, 18], [19, 14], [8, 9], [2, 11], [5, 4], [8, 9], [11, 19], [5, 10],\n",
    "    [12, 10], [14, 4], [4, 9], [2, 12], [28, 32], [22, 33], [22, 30],\n",
    "    [34, 16], [15, 20]\n",
    "])\n",
    "C2 = np.array([[6, 2],\n",
    "                [13, 14],\n",
    "                [17, 21],\n",
    "                [28, 28],\n",
    "                [24, 18],\n",
    "                [30, 15],\n",
    "                [29, 29],\n",
    "                [33, 25],\n",
    "                [32, 24]])\n",
    "\n",
    "#Cálculo das médias\n",
    "u1 = np.mean(C1, axis=0)\n",
    "u2 = np.mean(C2, axis=0)\n",
    "\n",
    "#Matrizes de Covariância\n",
    "E1 = np.zeros((2,2))\n",
    "for i in C1:\n",
    "    aux = (i - u1).reshape(-1, 1)\n",
    "    E1 += np.dot(aux,aux.T)\n",
    "\n",
    "E1 = E1/C1.shape[0]\n",
    "\n",
    "E2 = np.zeros((2,2))\n",
    "for i in C2:\n",
    "    aux = (i - u2).reshape(-1, 1)\n",
    "    E2 += np.dot(aux,aux.T)\n",
    "\n",
    "E2 = E2/C2.shape[0]\n",
    "\n",
    "#Matriz de Covariância\n",
    "S=E1+E2\n",
    "\n",
    "#w = S^(\\1)*(U1-U2)\n",
    "#S_1 = S/np.linalg.det(S)\n",
    "S_1 = np.linalg.inv(S)\n",
    "w = np.dot(S_1,(u1 - u2).reshape(-1, 1))\n",
    "print(w)\n",
    "\n"
   ]
  },
  {
   "cell_type": "markdown",
   "metadata": {},
   "source": [
    "## Nota:\n",
    "\n",
    "A partir daqui é codigo do exame de template"
   ]
  },
  {
   "cell_type": "markdown",
   "metadata": {},
   "source": [
    "## Calculo Entropias"
   ]
  },
  {
   "cell_type": "code",
   "execution_count": 6,
   "metadata": {},
   "outputs": [
    {
     "name": "stdout",
     "output_type": "stream",
     "text": [
      "i=1: H1=-0.0, H2=0.9852281360342515 => H=0.8620746190299701\n",
      "i=2: H1=-0.0, H2=0.9182958340544896 => H=0.6887218755408672\n",
      "i=3: H1=0.9182958340544896, H2=0.9709505944546686 => H=0.9512050593046015\n",
      "i=4: H1=1.0, H2=1.0 => H=1.0\n",
      "i=5: H1=0.9709505944546686, H2=0.9182958340544896 => H=0.9512050593046015\n",
      "i=6: H1=1.0, H2=1.0 => H=1.0\n",
      "i=7: H1=0.9852281360342515, H2=-0.0 => H=0.8620746190299701\n"
     ]
    }
   ],
   "source": [
    "import numpy as np\n",
    "\n",
    "S = np.array([1, 1, 2, 2, 2, 1, 1, 2])\n",
    "\n",
    "for i in range(1, len(S)):\n",
    "    S1 = S[:i]\n",
    "    S2 = S[i:]\n",
    "\n",
    "    PY1 = np.sum(S1 == 1)\n",
    "    PG1 = len(S1) - PY1\n",
    "    x1 = np.array([PY1, PG1]) / len(S1)\n",
    "    H1 = -np.sum(x1[x1 != 0] * np.log2(x1[x1 != 0]))\n",
    "\n",
    "    PY2 = np.sum(S2 == 1)\n",
    "    PG2 = len(S2) - PY2\n",
    "    x2 = np.array([PY2, PG2]) / len(S2)\n",
    "    H2 = -np.sum(x2[x2 != 0] * np.log2(x2[x2 != 0]))\n",
    "\n",
    "    H = (len(S1) * H1 + len(S2) * H2) / len(S)\n",
    "\n",
    "    print(f\"i={i}: H1={H1}, H2={H2} => H={H}\")\n"
   ]
  },
  {
   "cell_type": "markdown",
   "metadata": {},
   "source": [
    "## Calculo da regressão linear de ordem 3"
   ]
  },
  {
   "cell_type": "code",
   "execution_count": 7,
   "metadata": {},
   "outputs": [
    {
     "name": "stdout",
     "output_type": "stream",
     "text": [
      "Matrix X:\n",
      "[[1.   2.17 1.69 1.  ]\n",
      " [1.   2.3  2.17 1.69]\n",
      " [1.   2.08 2.3  2.17]\n",
      " [1.   1.65 2.08 2.3 ]\n",
      " [1.   1.23 1.65 2.08]\n",
      " [1.   1.63 1.23 1.65]\n",
      " [1.   1.27 1.63 1.23]\n",
      " [1.   1.87 1.27 1.63]\n",
      " [1.   2.71 1.87 1.27]\n",
      " [1.   3.59 2.71 1.87]\n",
      " [1.   4.27 3.59 2.71]]\n",
      "\n",
      "Coefficients beta:\n",
      "[[ 0.52650708]\n",
      " [ 1.41766048]\n",
      " [-0.36667627]\n",
      " [-0.28318784]]\n",
      "\n",
      "Estimated value of y(1.4):\n",
      "[4.4937465]\n"
     ]
    }
   ],
   "source": [
    "import numpy as np\n",
    "\n",
    "# Dados de entrada\n",
    "x = np.array([1, 1.69, 2.17, 2.30, 2.08, 1.65, 1.23, 1.63, 1.27, 1.87, 2.71, 3.59, 4.27, 4.62])\n",
    "\n",
    "# Inicializando X e Y\n",
    "X = np.empty((0, 4)) #X = np.empty((0, ordem + 1)) \n",
    "Y = np.empty((0, 1))\n",
    "\n",
    "# Criando X e Y a partir dos dados\n",
    "for i in range(3, len(x)):                #alterar o  3 para ordem\n",
    "    X = np.vstack([X, [1, x[i-1], x[i-2], x[i-3]]]) #alterar o numero de colunas consoante a ordem\n",
    "    Y = np.vstack([Y, [x[i]]])\n",
    "\n",
    "# Resolvendo para os coeficientes beta\n",
    "beta = np.linalg.lstsq(X, Y, rcond=None)[0]\n",
    "\n",
    "# Exibindo a matriz X e os coeficientes beta\n",
    "print(\"Matrix X:\")\n",
    "print(X)\n",
    "print(\"\\nCoefficients beta:\")\n",
    "print(beta)\n",
    "\n",
    "# Estimando y(1.4)\n",
    "x_new = np.array([1, x[-1], x[-2], x[-3]])  #alterar consoante a ordem\n",
    "y_1_4 = np.dot(x_new, beta)\n",
    "\n",
    "# Exibindo o valor estimado de y(1.4)\n",
    "print(\"\\nEstimated value of y(1.4):\")\n",
    "print(y_1_4)\n"
   ]
  },
  {
   "cell_type": "markdown",
   "metadata": {},
   "source": [
    "## K-means"
   ]
  },
  {
   "cell_type": "code",
   "execution_count": 8,
   "metadata": {},
   "outputs": [
    {
     "ename": "NameError",
     "evalue": "name 'c' is not defined",
     "output_type": "error",
     "traceback": [
      "\u001b[0;31m---------------------------------------------------------------------------\u001b[0m",
      "\u001b[0;31mNameError\u001b[0m                                 Traceback (most recent call last)",
      "Cell \u001b[0;32mIn[8], line 4\u001b[0m\n\u001b[1;32m      1\u001b[0m \u001b[38;5;28;01mimport\u001b[39;00m \u001b[38;5;21;01mnumpy\u001b[39;00m \u001b[38;5;28;01mas\u001b[39;00m \u001b[38;5;21;01mnp\u001b[39;00m\n\u001b[1;32m      3\u001b[0m \u001b[38;5;66;03m# Definindo as coordenadas dos pontos\u001b[39;00m\n\u001b[0;32m----> 4\u001b[0m p \u001b[38;5;241m=\u001b[39m np\u001b[38;5;241m.\u001b[39marray([[x, \u001b[43mc\u001b[49m, v, b, n], [v, v, v, v], \u001b[38;5;241m.\u001b[39m\u001b[38;5;241m.\u001b[39m\u001b[38;5;241m.\u001b[39m])  \u001b[38;5;66;03m# Complete com as coordenadas reais\u001b[39;00m\n\u001b[1;32m      6\u001b[0m \u001b[38;5;66;03m# Inicializando os centroides m1 e m2\u001b[39;00m\n\u001b[1;32m      7\u001b[0m m1 \u001b[38;5;241m=\u001b[39m np\u001b[38;5;241m.\u001b[39mrandom\u001b[38;5;241m.\u001b[39mrand(\u001b[38;5;241m5\u001b[39m, \u001b[38;5;241m1\u001b[39m)  \u001b[38;5;66;03m# Exemplo de inicialização aleatória\u001b[39;00m\n",
      "\u001b[0;31mNameError\u001b[0m: name 'c' is not defined"
     ]
    }
   ],
   "source": [
    "import numpy as np\n",
    "\n",
    "# Definindo as coordenadas dos pontos\n",
    "p = np.array([[x, c, v, b, n], [v, v, v, v], ...])  # Complete com as coordenadas reais\n",
    "\n",
    "# Inicializando os centroides m1 e m2\n",
    "m1 = np.random.rand(5, 1)  # Exemplo de inicialização aleatória\n",
    "m2 = np.random.rand(5, 1)  # Exemplo de inicialização aleatória\n",
    "\n",
    "for k in range(1, 6):\n",
    "    p1 = np.empty((0, 5))\n",
    "    p2 = np.empty((0, 5))\n",
    "\n",
    "    for i in range(p.shape[0]):\n",
    "        if np.sum((m1 - p[i, :])**2) < np.sum((m2 - p[i, :])**2):\n",
    "            p1 = np.vstack([p1, p[i, :]])\n",
    "        else:\n",
    "            p2 = np.vstack([p2, p[i, :]])\n",
    "\n",
    "    if p1.shape[0] > 0:\n",
    "        m1 = np.mean(p1, axis=0)\n",
    "    if p2.shape[0] > 0:\n",
    "        m2 = np.mean(p2, axis=0)\n",
    "\n",
    "    print(f\"it: {k}\")\n",
    "    print(\"cluster 1:\")\n",
    "    print(p1)\n",
    "    print(\"cluster 2:\")\n",
    "    print(p2)\n"
   ]
  },
  {
   "cell_type": "markdown",
   "metadata": {},
   "source": [
    "## pca "
   ]
  },
  {
   "cell_type": "code",
   "execution_count": null,
   "metadata": {},
   "outputs": [],
   "source": [
    "import numpy as np\n",
    "\n",
    "# Dados de entrada\n",
    "x = np.array([22, 44, 55, ...])\n",
    "w = np.array([22, 44, 55, ...])\n",
    "y = np.array([22, 44, 55, ...])\n",
    "z = np.array([22, 44, 55, ...])\n",
    "t = np.array([22, 44, 55, ...])\n",
    "\n",
    "# Normalização Z-score\n",
    "x = (x - np.mean(x)) / np.std(x)\n",
    "w = (w - np.mean(w)) / np.std(w)\n",
    "y = (y - np.mean(y)) / np.std(y)\n",
    "z = (z - np.mean(z)) / np.std(z)\n",
    "t = (t - np.mean(t)) / np.std(t)\n",
    "\n",
    "# Matriz de dados\n",
    "P = np.column_stack((x, w, y, z, t))\n",
    "\n",
    "# Calculando a matriz de covariância\n",
    "M = np.dot(P.T, P)\n",
    "\n",
    "print(\"Covariância:\")\n",
    "print(M)\n",
    "\n",
    "# Decompõe em valores singulares (SVD)\n",
    "U, W, V = np.linalg.svd(M)\n",
    "\n",
    "print('U (primeiras colunas -> primeiros PCs):')\n",
    "print(U)\n",
    "\n",
    "print('W (valores próprios):')\n",
    "print(W)\n",
    "\n",
    "print('V (vetores próprios):')\n",
    "print(V)\n"
   ]
  }
 ],
 "metadata": {
  "kernelspec": {
   "display_name": "base",
   "language": "python",
   "name": "python3"
  },
  "language_info": {
   "codemirror_mode": {
    "name": "ipython",
    "version": 3
   },
   "file_extension": ".py",
   "mimetype": "text/x-python",
   "name": "python",
   "nbconvert_exporter": "python",
   "pygments_lexer": "ipython3",
   "version": "3.11.6"
  }
 },
 "nbformat": 4,
 "nbformat_minor": 2
}
