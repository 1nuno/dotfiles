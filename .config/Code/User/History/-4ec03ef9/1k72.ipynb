{
 "cells": [
  {
   "cell_type": "markdown",
   "metadata": {},
   "source": [
    "nomes não podem ter caracteres especiais, virgulas, pontos nem sinais de operacoes matematicas\n",
    "\n",
    "nao podem comecar com algarismos"
   ]
  },
  {
   "cell_type": "markdown",
   "metadata": {},
   "source": [
    "apareceu False. Conclui que os valores sao de facto diferentes."
   ]
  },
  {
   "cell_type": "markdown",
   "metadata": {},
   "source": [
    "a) string\n",
    "\n",
    "b) float\n",
    "\n",
    "c) int\n",
    "\n",
    "d) complex\n",
    "\n",
    "e) string\n",
    "\n",
    "f) int"
   ]
  },
  {
   "cell_type": "code",
   "execution_count": 17,
   "metadata": {},
   "outputs": [
    {
     "name": "stdout",
     "output_type": "stream",
     "text": [
      "7\n",
      "8\n",
      "15\n",
      "7\n",
      "262144\n",
      "6\n"
     ]
    }
   ],
   "source": [
    "print(2 + 3 * 1 + 2)\n",
    "print(2 + 3 + 1 + 2)\n",
    "print((2 + 3) * (1 + 2))\n",
    "print((2 + 3) * 1 + 2)\n",
    "print(4**3**2)\n",
    "print(-+-+6)"
   ]
  },
  {
   "cell_type": "code",
   "execution_count": 18,
   "metadata": {},
   "outputs": [
    {
     "name": "stdout",
     "output_type": "stream",
     "text": [
      "11.0\n",
      "1.8\n",
      "32.0\n",
      "64.0\n",
      "9\n",
      "-9\n"
     ]
    }
   ],
   "source": [
    "print(2 + (3*(6/2)))\n",
    "print((4+5) / (2+3))\n",
    "print((4/2)**5)\n",
    "print((4/2)**(5+1))\n",
    "print((-3)**2)\n",
    "print(-3**2)"
   ]
  },
  {
   "cell_type": "markdown",
   "metadata": {},
   "source": [
    "float - a, b, c, d, e, f, l\n",
    "\n",
    "complex - o resto"
   ]
  },
  {
   "cell_type": "code",
   "execution_count": 23,
   "metadata": {},
   "outputs": [],
   "source": [
    "def my_polinomial(x):\n",
    "    return x**4 + x**3 + 2*x**2 - x"
   ]
  },
  {
   "cell_type": "code",
   "execution_count": 24,
   "metadata": {},
   "outputs": [
    {
     "name": "stdout",
     "output_type": "stream",
     "text": [
      "4.115100000000002\n",
      "795\n",
      "30\n",
      "0.9375\n"
     ]
    }
   ],
   "source": [
    "print(my_polinomial(1.1))\n",
    "print(my_polinomial(5))\n",
    "print(my_polinomial(2))\n",
    "print(my_polinomial(-0.5))"
   ]
  },
  {
   "cell_type": "code",
   "execution_count": 25,
   "metadata": {},
   "outputs": [],
   "source": [
    "import math"
   ]
  },
  {
   "cell_type": "code",
   "execution_count": 26,
   "metadata": {},
   "outputs": [],
   "source": [
    "def my_volume(radious,height):\n",
    "    return (math.pi*radious**2*height)/3"
   ]
  },
  {
   "cell_type": "code",
   "execution_count": 27,
   "metadata": {},
   "outputs": [
    {
     "name": "stdout",
     "output_type": "stream",
     "text": [
      "1272345.024703866\n"
     ]
    }
   ],
   "source": [
    "print(my_volume(90,150))"
   ]
  },
  {
   "cell_type": "code",
   "execution_count": 28,
   "metadata": {},
   "outputs": [],
   "source": [
    "def from_celsious_to_fahrenheit(celsious):\n",
    "    return (9/5)*celsious + 32"
   ]
  },
  {
   "cell_type": "code",
   "execution_count": 29,
   "metadata": {},
   "outputs": [
    {
     "name": "stdout",
     "output_type": "stream",
     "text": [
      "86.0\n"
     ]
    }
   ],
   "source": [
    "print(from_celsious_to_fahrenheit(30))"
   ]
  },
  {
   "cell_type": "code",
   "execution_count": 2,
   "metadata": {},
   "outputs": [
    {
     "name": "stdout",
     "output_type": "stream",
     "text": [
      "a\n",
      "b\n"
     ]
    }
   ],
   "source": [
    "print('a',end='-----')\n",
    "print('b')"
   ]
  }
 ],
 "metadata": {
  "kernelspec": {
   "display_name": "IP",
   "language": "python",
   "name": "python3"
  },
  "language_info": {
   "codemirror_mode": {
    "name": "ipython",
    "version": 3
   },
   "file_extension": ".py",
   "mimetype": "text/x-python",
   "name": "python",
   "nbconvert_exporter": "python",
   "pygments_lexer": "ipython3",
   "version": "3.11.6"
  },
  "orig_nbformat": 4
 },
 "nbformat": 4,
 "nbformat_minor": 2
}
