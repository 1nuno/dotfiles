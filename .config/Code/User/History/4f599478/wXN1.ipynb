{
 "cells": [
  {
   "cell_type": "code",
   "execution_count": 4,
   "metadata": {},
   "outputs": [],
   "source": [
    "import pandas as pd"
   ]
  },
  {
   "cell_type": "code",
   "execution_count": 5,
   "metadata": {},
   "outputs": [],
   "source": [
    "pdr2020 = pd.read_csv(\"pdr2020.csv\")\n",
    "pt2030 = pd.read_csv(\"pt2030.csv\")\n",
    "recuperar = pd.read_csv(\"recuperar.csv\")"
   ]
  }
 ],
 "metadata": {
  "kernelspec": {
   "display_name": "btl2",
   "language": "python",
   "name": "python3"
  },
  "language_info": {
   "codemirror_mode": {
    "name": "ipython",
    "version": 3
   },
   "file_extension": ".py",
   "mimetype": "text/x-python",
   "name": "python",
   "nbconvert_exporter": "python",
   "pygments_lexer": "ipython3",
   "version": "3.11.6"
  }
 },
 "nbformat": 4,
 "nbformat_minor": 2
}
