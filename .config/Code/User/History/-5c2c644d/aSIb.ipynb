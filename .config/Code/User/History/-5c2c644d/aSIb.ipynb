{
 "cells": [
  {
   "cell_type": "code",
   "execution_count": 5,
   "metadata": {},
   "outputs": [],
   "source": [
    "import requests as r\n",
    "from bs4 import BeautifulSoup as bs\n",
    "from lxml import etree"
   ]
  },
  {
   "cell_type": "code",
   "execution_count": 23,
   "metadata": {},
   "outputs": [],
   "source": [
    "def o_gajo_existe(cedula):\n",
    "    session = r.Session()\n",
    "    a = session.get(f\"https://portal.oa.pt/advogados/pesquisa-de-advogados/?l=&cg=&ce={cedula}C&n=&lo=&m=&cp=&op=&o=0&g-recaptcha-response=\")\n",
    "    soup = bs(a.text,'html.parser')\n",
    "    dom = etree.HTML(str(soup))\n",
    "\n",
    "    if dom.xpath('//h3[@class=\"search-results__summary-title red title\"]//text()')[0].split()[0] == '0':\n",
    "        return \"nao existe\"\n",
    "    return \"existe\""
   ]
  },
  {
   "cell_type": "code",
   "execution_count": 24,
   "metadata": {},
   "outputs": [
    {
     "data": {
      "text/plain": [
       "'existe'"
      ]
     },
     "execution_count": 24,
     "metadata": {},
     "output_type": "execute_result"
    }
   ],
   "source": [
    "cedula = \"naoExisto\"\n",
    "o_gajo_existe(cedula)\n"
   ]
  }
 ],
 "metadata": {
  "kernelspec": {
   "display_name": "jurispru-bra",
   "language": "python",
   "name": "python3"
  },
  "language_info": {
   "codemirror_mode": {
    "name": "ipython",
    "version": 3
   },
   "file_extension": ".py",
   "mimetype": "text/x-python",
   "name": "python",
   "nbconvert_exporter": "python",
   "pygments_lexer": "ipython3",
   "version": "3.11.7"
  }
 },
 "nbformat": 4,
 "nbformat_minor": 2
}
