{
 "cells": [
  {
   "cell_type": "code",
   "execution_count": 2,
   "metadata": {},
   "outputs": [],
   "source": [
    "import numpy as np\n",
    "import math"
   ]
  },
  {
   "cell_type": "code",
   "execution_count": 15,
   "metadata": {},
   "outputs": [
    {
     "data": {
      "text/plain": [
       "2.25"
      ]
     },
     "execution_count": 15,
     "metadata": {},
     "output_type": "execute_result"
    }
   ],
   "source": [
    "9/4"
   ]
  },
  {
   "cell_type": "code",
   "execution_count": 11,
   "metadata": {},
   "outputs": [
    {
     "name": "stdout",
     "output_type": "stream",
     "text": [
      "s:  0.9910760598382222\n",
      "s1:  0.6500224216483541\n",
      "final:  0.5577277787393196\n"
     ]
    }
   ],
   "source": [
    "y = 4/9\n",
    "x = 5/9\n",
    "s = -y*np.log2(y)-x*np.log2(x)\n",
    "print('s: ',s)\n",
    "\n",
    "y1 = 1/6\n",
    "x1 = 5/6\n",
    "s1 = -y1*np.log2(y1)-x1*np.log2(x1)\n",
    "print('s1: ',s1)\n",
    "\n",
    "aux1 = 6/9\n",
    "final = s - (aux1*s1)\n",
    "print('final: ',final) "
   ]
  },
  {
   "cell_type": "code",
   "execution_count": 14,
   "metadata": {},
   "outputs": [
    {
     "data": {
      "text/plain": [
       "0.011307424898113125"
      ]
     },
     "execution_count": 14,
     "metadata": {},
     "output_type": "execute_result"
    }
   ],
   "source": [
    "cum_sum = 0\n",
    "for i in [(4/11,5/11,8/11),(4/11,6/11,8/11),(1/11,5/11,3/11),(2/11,6/11,3/11)]:\n",
    "    cum_sum += i[0]*np.log(i[0]/(i[1]*i[2]))\n",
    "cum_sum"
   ]
  }
 ],
 "metadata": {
  "kernelspec": {
   "display_name": "EA",
   "language": "python",
   "name": "python3"
  },
  "language_info": {
   "codemirror_mode": {
    "name": "ipython",
    "version": 3
   },
   "file_extension": ".py",
   "mimetype": "text/x-python",
   "name": "python",
   "nbconvert_exporter": "python",
   "pygments_lexer": "ipython3",
   "version": "3.11.6"
  }
 },
 "nbformat": 4,
 "nbformat_minor": 2
}
