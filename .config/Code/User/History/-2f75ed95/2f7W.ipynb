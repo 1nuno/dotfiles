{
 "cells": [
  {
   "cell_type": "code",
   "execution_count": null,
   "metadata": {},
   "outputs": [],
   "source": [
    "import os\n",
    "import numpy as np\n",
    "import matplotlib.pyplot as plt\n",
    "import matplotlib.animation as anime\n",
    "from matplotlib.widgets import Slider\n",
    "from IPython.display import Video\n",
    "from sklearn.cluster import KMeans\n",
    "import matplotlib.colors as mcolors"
   ]
  },
  {
   "cell_type": "code",
   "execution_count": null,
   "metadata": {},
   "outputs": [],
   "source": [
    "## %matplotlib widget"
   ]
  },
  {
   "cell_type": "code",
   "execution_count": null,
   "metadata": {},
   "outputs": [],
   "source": [
    "plt.rcParams[\"figure.figsize\"] = (8,8)"
   ]
  },
  {
   "cell_type": "markdown",
   "metadata": {},
   "source": [
    "# <span style=\"color:rgb(52, 192, 235)\">1. Questão</span>\n",
    "\n",
    "<span style=\"color:rgb(52, 192, 235)\">Crie um IPython notebook com o nome ‘XXXX_YYYY_EA2023.ipynb’, em que XXXX \n",
    "e YYYY devem ser substituídos pelos números de aluno dos elementos constituintes do grupo. \n",
    "Neste notebook devem colocar todo o código bem como as respostas / análises.</span>"
   ]
  },
  {
   "cell_type": "markdown",
   "metadata": {},
   "source": [
    "# <span style=\"color:rgb(102, 227, 158)\">1. Resposta</span>\n",
    "\n",
    "<span style=\"color:rgb(102, 227, 158)\">A criação deste notebook serve como resposta a questão 1.</span>"
   ]
  },
  {
   "cell_type": "markdown",
   "metadata": {},
   "source": [
    "# "
   ]
  },
  {
   "cell_type": "markdown",
   "metadata": {},
   "source": [
    "# "
   ]
  },
  {
   "cell_type": "markdown",
   "metadata": {},
   "source": [
    "------------------------------------------------------------------------ "
   ]
  },
  {
   "cell_type": "markdown",
   "metadata": {},
   "source": [
    "# "
   ]
  },
  {
   "cell_type": "markdown",
   "metadata": {},
   "source": [
    "# "
   ]
  },
  {
   "cell_type": "markdown",
   "metadata": {},
   "source": [
    "# <span style=\"color:rgb(52, 192, 235)\">2.1. Questão</span>\n",
    "\n",
    "<span style=\"color:rgb(52, 192, 235)\">Prepare,  para  cada  sujeito  do  dataset,  um  dicionário  ou  array  que  contenha, \n",
    "para cada emoção, a lista de ficheiros desse sujeito e emoção. Nota: sugere-se o \n",
    "recurso às funçãos listdir() do módulo os e da função string.split() do python. </span>"
   ]
  },
  {
   "cell_type": "markdown",
   "metadata": {},
   "source": [
    "# <span style=\"color:rgb(102, 227, 158)\">2.1. Resposta</span>"
   ]
  },
  {
   "cell_type": "code",
   "execution_count": null,
   "metadata": {
    "scrolled": true
   },
   "outputs": [],
   "source": [
    "nome_ficheiros = os.listdir('data')\n",
    "\n",
    "nome_ficheiros_estruturados = {}\n",
    "for i in nome_ficheiros:\n",
    "    actor_id = i.split('-')[-1].split('.')[0]\n",
    "    emocao_id =  i.split('-')[2]\n",
    "\n",
    "    if actor_id not in nome_ficheiros_estruturados:\n",
    "        nome_ficheiros_estruturados[actor_id] = {emocao_id:[i]}\n",
    "    elif emocao_id not in nome_ficheiros_estruturados[actor_id]:\n",
    "        nome_ficheiros_estruturados[actor_id][emocao_id] = [i]\n",
    "    else:\n",
    "        nome_ficheiros_estruturados[actor_id][emocao_id].append(i)\n",
    "        \n",
    "nome_ficheiros_estruturados"
   ]
  },
  {
   "cell_type": "markdown",
   "metadata": {},
   "source": [
    "# "
   ]
  },
  {
   "cell_type": "markdown",
   "metadata": {},
   "source": [
    "# "
   ]
  },
  {
   "cell_type": "markdown",
   "metadata": {},
   "source": [
    "------------------------------------------------------------------------------------ "
   ]
  },
  {
   "cell_type": "markdown",
   "metadata": {},
   "source": [
    "# "
   ]
  },
  {
   "cell_type": "markdown",
   "metadata": {},
   "source": [
    "# "
   ]
  },
  {
   "cell_type": "markdown",
   "metadata": {},
   "source": [
    "# <span style=\"color:rgb(52, 192, 235)\">2.2. Questão</span>\n",
    "\n",
    "<span style=\"color:rgb(52, 192, 235)\">Elabore uma rotina que carregue os dados relativos a um indivíduo (ou \n",
    "todos)  e  os  devolva  num  Array  NumPy,  no  formato  [nr_de_videos  x nr_de_landmarks*coordenadas x nr_de_frames]. Note que vídeos diferentes \n",
    "têm durações (nr de frames) diferentes, pelo que deve usar o nr de frames do \n",
    "maior vídeo e usar valores NaN para completar os vídeos de duração menor.\n",
    "</span>"
   ]
  },
  {
   "cell_type": "markdown",
   "metadata": {},
   "source": [
    "# <span style=\"color:rgb(102, 227, 158)\">2.2. Resposta</span>"
   ]
  },
  {
   "cell_type": "code",
   "execution_count": null,
   "metadata": {},
   "outputs": [],
   "source": [
    "def get_ficheiros(actor='',emocao='',orderby='actor'):\n",
    "    actores = {i for i in os.listdir('data') if i.split('-')[-1].split('.')[0] == actor}\n",
    "    emocoes = {i for i in os.listdir('data') if i.split('-')[2] == emocao}\n",
    "    if (len(actores) == 0) ^ (len(emocoes) == 0):\n",
    "        nome_ficheiros = list(actores.union(emocoes))\n",
    "    else:\n",
    "        nome_ficheiros = list(actores.intersection(emocoes))\n",
    "        \n",
    "    if len(nome_ficheiros) == 0:\n",
    "        if orderby == 'actor':\n",
    "            nome_ficheiros = sorted(os.listdir('data'), key=lambda i: int(i.split('-')[-1].split('.')[0]))\n",
    "        else:\n",
    "            nome_ficheiros = sorted(os.listdir('data'), key=lambda i: int(i.split('-')[2]))\n",
    "\n",
    "    \n",
    "    return nome_ficheiros"
   ]
  },
  {
   "cell_type": "code",
   "execution_count": null,
   "metadata": {},
   "outputs": [],
   "source": [
    "def get_maximo_frames(actor='',emocao=''):\n",
    "    nome_ficheiros = get_ficheiros(actor=actor,emocao=emocao)\n",
    "    nr_de_frames_maximo = 0\n",
    "    i_max = 0\n",
    "    for i,nome in enumerate(nome_ficheiros):\n",
    "        with open(f'data/{nome}', 'r') as ficheiro:\n",
    "            nr_de_frames = sum(1 for _ in ficheiro) - 1\n",
    "        i_max,nr_de_frames_maximo = (i,nr_de_frames) if nr_de_frames_maximo < nr_de_frames else (i_max,nr_de_frames_maximo)\n",
    "    return nr_de_frames_maximo,i_max\n"
   ]
  },
  {
   "cell_type": "code",
   "execution_count": null,
   "metadata": {},
   "outputs": [],
   "source": [
    "# O numero de landmarks nos é dado no enunciado, e por isso esta aqui \"hardcoded\";\n",
    "# As cordenadas nesse caso são x e y e tambem estao \"hardcoded\".\n",
    "def get_dados_estruturados(actor='',emocao='',dimensao='3d',orderby='actor'):\n",
    "    nr_de_landmarks = 68 \n",
    "    nr_de_coordenadas = 2 \n",
    "    nome_ficheiros = get_ficheiros(actor=actor,emocao=emocao,orderby=orderby)\n",
    "    nr_de_videos = len(nome_ficheiros)\n",
    "    nr_de_frames_maximo,i_max = get_maximo_frames(actor=actor,emocao=emocao)\n",
    "    \n",
    "    if dimensao == '3d':\n",
    "        dados_estruturados = np.full((nr_de_videos, nr_de_landmarks*nr_de_coordenadas, nr_de_frames_maximo),np.nan)\n",
    "        for i,nome in enumerate(nome_ficheiros):\n",
    "            with open(f'data/{nome}', 'r') as ficheiro:\n",
    "                for j,frame in enumerate(ficheiro):\n",
    "                    frame = frame.split(',')\n",
    "                    if j == 0:\n",
    "                        index = [i for i,_ in enumerate(frame) if _.startswith('x_') or _.startswith('y_')]\n",
    "                    else:\n",
    "                        frame = np.array(frame)[index].astype('float')\n",
    "                        dados_estruturados[i,:,j-1] = frame\n",
    "        return i_max,dados_estruturados\n",
    "    else:\n",
    "        dados_estruturados = []\n",
    "        for i,nome in enumerate(nome_ficheiros):\n",
    "            actor = nome.split('-')[-1].split('.')[0]\n",
    "            emocao = nome.split('-')[2]\n",
    "            with open(f'data/{nome}', 'r') as ficheiro:\n",
    "                for j,frame in enumerate(ficheiro):\n",
    "                    frame = frame.split(',')\n",
    "                    frame.extend([actor,emocao])\n",
    "                    if j == 0:\n",
    "                        index = [i for i,_ in enumerate(frame) if _.startswith('x_') or _.startswith('y_')]\n",
    "                        index.extend([-2,-1])\n",
    "                    else:\n",
    "                        frame = np.array(frame)[index].astype('float')\n",
    "                \n",
    "                        dados_estruturados.append(frame)\n",
    "        return np.array(dados_estruturados)"
   ]
  },
  {
   "cell_type": "code",
   "execution_count": null,
   "metadata": {},
   "outputs": [],
   "source": [
    "i_max,dados_estruturados = get_dados_estruturados(actor='12',emocao='08')\n",
    "# dados_estruturados = np.load('dados_estruturados.npy')"
   ]
  },
  {
   "cell_type": "code",
   "execution_count": null,
   "metadata": {},
   "outputs": [],
   "source": [
    "dados_estruturados[i_max]"
   ]
  },
  {
   "cell_type": "markdown",
   "metadata": {},
   "source": [
    "# "
   ]
  },
  {
   "cell_type": "markdown",
   "metadata": {},
   "source": [
    "# "
   ]
  },
  {
   "cell_type": "markdown",
   "metadata": {},
   "source": [
    "------------------------------------------------------------------------------------- "
   ]
  },
  {
   "cell_type": "markdown",
   "metadata": {},
   "source": [
    "# "
   ]
  },
  {
   "cell_type": "markdown",
   "metadata": {},
   "source": [
    "# "
   ]
  },
  {
   "cell_type": "markdown",
   "metadata": {},
   "source": [
    "# <span style=\"color:rgb(52, 192, 235)\">2.3. Questão</span>\n",
    "\n",
    "<span style=\"color:rgb(52, 192, 235)\">Crie também uma variável Emotion com o formato [nr_de_videos x 1] onde \n",
    "guarda, para cada vídeo, um valor representante da emoção representada nesse \n",
    "vídeo (presente no nome do ficheiro CSV). \n",
    "</span>"
   ]
  },
  {
   "cell_type": "markdown",
   "metadata": {},
   "source": [
    "# <span style=\"color:rgb(102, 227, 158)\">2.3. Resposta</span>"
   ]
  },
  {
   "cell_type": "code",
   "execution_count": null,
   "metadata": {},
   "outputs": [],
   "source": [
    "def get_emocoes(actor=''):\n",
    "    nome_ficheiros = get_ficheiros(actor=actor)\n",
    "    emocoes = []\n",
    "    for i in nome_ficheiros:\n",
    "        if actor == '':\n",
    "            emocao_id = i.split('-')[2]\n",
    "            emocoes.append(emocao_id)\n",
    "        else:\n",
    "            actor_id = i.split('-')[-1].split('.')[0]\n",
    "            if actor_id == actor:\n",
    "                emocao_id = i.split('-')[2]\n",
    "                emocoes.append(emocao_id)\n",
    "    return emocoes"
   ]
  },
  {
   "cell_type": "code",
   "execution_count": null,
   "metadata": {},
   "outputs": [],
   "source": [
    "emocoes = get_emocoes('12')"
   ]
  },
  {
   "cell_type": "code",
   "execution_count": null,
   "metadata": {},
   "outputs": [],
   "source": [
    "emocoes"
   ]
  },
  {
   "cell_type": "markdown",
   "metadata": {},
   "source": [
    "# "
   ]
  },
  {
   "cell_type": "markdown",
   "metadata": {},
   "source": [
    "# "
   ]
  },
  {
   "cell_type": "markdown",
   "metadata": {},
   "source": [
    "---------------------------------------------------------------------------------- "
   ]
  },
  {
   "cell_type": "markdown",
   "metadata": {},
   "source": [
    "# "
   ]
  },
  {
   "cell_type": "markdown",
   "metadata": {},
   "source": [
    "# "
   ]
  },
  {
   "cell_type": "markdown",
   "metadata": {},
   "source": [
    "# <span style=\"color:rgb(52, 192, 235)\">2.4. Questão</span>\n",
    "\n",
    "<span style=\"color:rgb(52, 192, 235)\">Implemente uma função de visualização das expressões, que, recebendo as \n",
    "coordenadas  dos  landmarks  relativas  a  um  frame,  gere  uma  imagem \n",
    "semelhante ao representado na figura 1.\n",
    "</span>"
   ]
  },
  {
   "cell_type": "markdown",
   "metadata": {},
   "source": [
    "# <span style=\"color:rgb(102, 227, 158)\">2.4. Resposta</span>"
   ]
  },
  {
   "cell_type": "code",
   "execution_count": null,
   "metadata": {},
   "outputs": [],
   "source": [
    "def get_frame(actor='12',emocao='01',video_id='max',frame_id=0):\n",
    "    i_max,dados_estruturados = get_dados_estruturados(actor=actor,emocao=emocao)\n",
    "    \n",
    "    if video_id == 'max':\n",
    "        video_id = i_max\n",
    "\n",
    "    x = dados_estruturados[video_id,:68,frame_id]\n",
    "    y = -dados_estruturados[video_id,68:,frame_id]\n",
    "    fig, ax = plt.subplots()\n",
    "    fig.set_facecolor('xkcd:midnight')\n",
    "    ax.grid(False)\n",
    "    ax.axis('off')\n",
    "    ax.scatter(x, y, alpha=0.9, facecolors='none', linewidth=3, edgecolors='xkcd:lightblue', s=20)\n",
    "    plt.show()"
   ]
  },
  {
   "cell_type": "code",
   "execution_count": null,
   "metadata": {},
   "outputs": [],
   "source": [
    "get_frame(actor='12',emocao='08',video_id='max',frame_id=0)"
   ]
  },
  {
   "cell_type": "markdown",
   "metadata": {},
   "source": [
    "# "
   ]
  },
  {
   "cell_type": "markdown",
   "metadata": {},
   "source": [
    "# "
   ]
  },
  {
   "cell_type": "markdown",
   "metadata": {},
   "source": [
    "-------------------------------------------------------------------------------------------------------"
   ]
  },
  {
   "cell_type": "markdown",
   "metadata": {},
   "source": [
    "# "
   ]
  },
  {
   "cell_type": "markdown",
   "metadata": {},
   "source": [
    "# "
   ]
  },
  {
   "cell_type": "markdown",
   "metadata": {},
   "source": [
    "# <span style=\"color:rgb(52, 192, 235)\">2.5. Questão</span>\n",
    "\n",
    "<span style=\"color:rgb(52, 192, 235)\">Adapte a função anterior para permitir a visualização, em sobreposição, de \n",
    "vários frames (por exemplo, todos os frames de um vídeo).\n",
    "</span>"
   ]
  },
  {
   "cell_type": "markdown",
   "metadata": {},
   "source": [
    "# <span style=\"color:rgb(102, 227, 158)\">2.5. Resposta</span>"
   ]
  },
  {
   "cell_type": "code",
   "execution_count": null,
   "metadata": {},
   "outputs": [],
   "source": [
    "def get_frames(actor='12',emocao='01',video_id='max'):\n",
    "    i_max,dados_estruturados = get_dados_estruturados(actor=actor,emocao=emocao)\n",
    "    \n",
    "    if video_id == 'max':\n",
    "        video_id = i_max\n",
    "    \n",
    "    frames = []\n",
    "    for i,frame in enumerate(dados_estruturados[video_id].T):\n",
    "        x = frame[:68]\n",
    "        y = -frame[68:]\n",
    "        if i == 0:\n",
    "            xmin = min(x)\n",
    "            xmax = max(x)\n",
    "            ymin = min(y)\n",
    "            ymax = max(y)\n",
    "        else:\n",
    "            xmin = min(x) if min(x) < xmin else xmin\n",
    "            xmax = max(x) if max(x) > xmax else xmax\n",
    "            ymin = min(y) if min(y) < ymin else ymin\n",
    "            ymax = max(y) if max(y) > ymax else ymax\n",
    "        frames.append(list(zip(x,y)))\n",
    "    return frames,xmin,xmax,ymin,ymax"
   ]
  },
  {
   "cell_type": "code",
   "execution_count": null,
   "metadata": {},
   "outputs": [],
   "source": [
    "frames,xmin,xmax,ymin,ymax = get_frames()"
   ]
  },
  {
   "cell_type": "code",
   "execution_count": null,
   "metadata": {},
   "outputs": [],
   "source": [
    "def plot_frames(actor='12',emocao='08',video_id='max'):\n",
    "    frames,xmin,xmax,ymin,ymax = get_frames()\n",
    "    fig, ax = plt.subplots()\n",
    "    fig.set_facecolor('xkcd:midnight')\n",
    "    ax.grid(False)\n",
    "    ax.axis('off')\n",
    "    cmapp = plt.get_cmap('Blues')\n",
    "    for i,frame in enumerate(frames[:50]):\n",
    "        for p in frame:\n",
    "                x = p[0]\n",
    "                y = p[1]\n",
    "                ax.scatter(x, y, alpha=i/len(frames[:50]), facecolors='none', linewidth=3, edgecolors=cmapp(i/len(frames[:50])), s=12)\n",
    "    plt.show()"
   ]
  },
  {
   "cell_type": "code",
   "execution_count": null,
   "metadata": {},
   "outputs": [],
   "source": [
    "plot_frames(actor='11',emocao='07',video_id='max')"
   ]
  },
  {
   "cell_type": "markdown",
   "metadata": {},
   "source": [
    "# <span style=\"color:rgb(207, 52, 235)\">2.5. BÓNUS!</span>"
   ]
  },
  {
   "cell_type": "code",
   "execution_count": null,
   "metadata": {},
   "outputs": [],
   "source": [
    "def animate_frames(fps=100,interpolation=4,dpi=200,actor='',emocao='',filename='animated'):\n",
    "    frames,xmin,xmax,ymin,ymax = get_frames(actor=actor,emocao=emocao)\n",
    "    fig=plt.figure()\n",
    "    fig.patch.set_facecolor('xkcd:midnight')\n",
    "    p1, = plt.plot([], [], color='xkcd:lightblue', linestyle='None', marker='o',\n",
    "        markerfacecolor='none',markeredgewidth=2.5,  markersize=5)\n",
    "\n",
    "\n",
    "    plt.grid(False)\n",
    "    plt.axis('off')\n",
    "\n",
    "    plt.xlim(xmin, xmax)\n",
    "    plt.ylim(ymin, ymax)\n",
    "\n",
    "\n",
    "    metadata=dict(title=\"Movie\",artist=\"sourabh\")\n",
    "    writer= anime.FFMpegWriter(fps=fps,metadata=metadata)\n",
    "    with writer.saving(fig,f\"{filename}.mp4\",dpi):\n",
    "        for i,_ in enumerate(frames):\n",
    "            if i < len(frames)-1:\n",
    "                intermidiate_frames_separated_cordinates = []\n",
    "                current_frame = frames[i]\n",
    "                next_frame = frames[i+1]\n",
    "\n",
    "                for current_point, next_point in zip(current_frame,next_frame):\n",
    "                    intermidiate = list(zip(np.linspace(current_point[0], next_point[0], interpolation),\n",
    "                                            np.linspace(current_point[1], next_point[1], interpolation)))\n",
    "                    intermidiate_frames_separated_cordinates.append(intermidiate)\n",
    "                intermidiate_frames = list(zip(*intermidiate_frames_separated_cordinates))\n",
    "\n",
    "                for point in intermidiate_frames:\n",
    "                    point_coords = list(zip(*point))\n",
    "                    x = point_coords[0]\n",
    "                    y = point_coords[1]\n",
    "                    p1.set_data((x,),(y,))\n",
    "                    writer.grab_frame()"
   ]
  },
  {
   "cell_type": "code",
   "execution_count": null,
   "metadata": {},
   "outputs": [],
   "source": [
    "filename_to_save = 'animation'\n",
    "animate_frames(fps=100,interpolation=4,dpi=200,actor='12',emocao='08',filename=filename_to_save)\n",
    "Video(\"animation.mp4\")"
   ]
  },
  {
   "cell_type": "markdown",
   "metadata": {},
   "source": [
    "#"
   ]
  },
  {
   "cell_type": "markdown",
   "metadata": {},
   "source": [
    "#"
   ]
  },
  {
   "cell_type": "markdown",
   "metadata": {},
   "source": [
    "---------------------------------------------------------------------------------------------"
   ]
  },
  {
   "cell_type": "markdown",
   "metadata": {},
   "source": [
    "#"
   ]
  },
  {
   "cell_type": "markdown",
   "metadata": {},
   "source": [
    "#"
   ]
  },
  {
   "cell_type": "markdown",
   "metadata": {},
   "source": [
    "# <span style=\"color:rgb(52, 192, 235)\">3. Questão</span>\n",
    "\n",
    "<span style=\"color:rgb(52, 192, 235)\">Análise e tratamento de Outliers: o objetivo será identificar e tratar outliers no dataset \n",
    "usando diferentes abordagens univariável e multivariável.  Para o efeito iremos juntar os \n",
    "frames dos vários vídeos e considerar cada frame como uma amostra, criando um dataset \n",
    "transformado com o formato [nr_total_de_frames  x nr_de_landmarks*coordenadas]. \n",
    "</span>"
   ]
  },
  {
   "cell_type": "markdown",
   "metadata": {},
   "source": [
    "# <span style=\"color:rgb(102, 227, 158)\">3. Resposta</span>"
   ]
  },
  {
   "cell_type": "code",
   "execution_count": null,
   "metadata": {},
   "outputs": [],
   "source": [
    "dados = get_dados_estruturados(dimensao='2d',orderby='emocao')"
   ]
  },
  {
   "cell_type": "code",
   "execution_count": null,
   "metadata": {},
   "outputs": [],
   "source": [
    "dados"
   ]
  },
  {
   "cell_type": "markdown",
   "metadata": {},
   "source": [
    "# "
   ]
  },
  {
   "cell_type": "markdown",
   "metadata": {},
   "source": [
    "# "
   ]
  },
  {
   "cell_type": "markdown",
   "metadata": {},
   "source": [
    "------------------------------------------------------------------ "
   ]
  },
  {
   "cell_type": "markdown",
   "metadata": {},
   "source": [
    "# "
   ]
  },
  {
   "cell_type": "markdown",
   "metadata": {},
   "source": [
    "# "
   ]
  },
  {
   "cell_type": "markdown",
   "metadata": {},
   "source": [
    "# <span style=\"color:rgb(52, 192, 235)\">3.1. Questão</span>\n",
    "\n",
    "<span style=\"color:rgb(52, 192, 235)\">Normalize os valores das coordenadas dos landmarks em cada frame em \n",
    "função do landmark de referência 27, da seguinte forma:</span>\n",
    "\n",
    "<span style=\"color:rgb(52, 192, 235)\">x = (x-x_ref)/x_max</span>\n",
    "\n",
    "<span style=\"color:rgb(52, 192, 235)\">y = (y-y_ref)/y_max</span>\n",
    "\n",
    "<span style=\"color:rgb(52, 192, 235)\">Considere x_max como sendo 1280 e y_max como sendo 720, as dimensões \n",
    "máximas do vídeo, em pixéis, e x_ref e y_ref como sendo os valores das \n",
    "variáveis x_27 e y_27 (coordenadas do landmark de referência 27), nesse \n",
    "mesmo frame.</span>"
   ]
  },
  {
   "cell_type": "markdown",
   "metadata": {},
   "source": [
    "# <span style=\"color:rgb(102, 227, 158)\">3.1. Resposta</span>"
   ]
  },
  {
   "cell_type": "code",
   "execution_count": null,
   "metadata": {},
   "outputs": [],
   "source": [
    "def normalize_dados(dados):\n",
    "    x = dados[:68]\n",
    "    y = dados[68:]\n",
    "    x_ref = x[27]\n",
    "    x_max = 1280\n",
    "    y_ref = y[27]\n",
    "    y_max = 720\n",
    "    x = (x-x_ref)/x_max\n",
    "    y = (y-y_ref)/y_max\n",
    "    return np.concatenate((x,y), axis=0)"
   ]
  },
  {
   "cell_type": "code",
   "execution_count": null,
   "metadata": {},
   "outputs": [],
   "source": [
    "dados_normalizados = normalize_dados(dados[:,:-2])\n",
    "dados_normalizados = np.concatenate((dados_normalizados,dados[:,-2:]),1)"
   ]
  },
  {
   "cell_type": "markdown",
   "metadata": {},
   "source": [
    "#"
   ]
  },
  {
   "cell_type": "markdown",
   "metadata": {},
   "source": [
    "#"
   ]
  },
  {
   "cell_type": "markdown",
   "metadata": {},
   "source": [
    "-----------------"
   ]
  },
  {
   "cell_type": "markdown",
   "metadata": {},
   "source": [
    "#"
   ]
  },
  {
   "cell_type": "markdown",
   "metadata": {},
   "source": [
    "#"
   ]
  },
  {
   "cell_type": "markdown",
   "metadata": {},
   "source": [
    "# <span style=\"color:rgb(52, 192, 235)\">3.2. Questão</span>\n",
    "\n",
    "<span style=\"color:rgb(52, 192, 235)\">Elabore uma rotina que apresente simultaneamente o boxplot de cada \n",
    "emoção (8 emoções – eixo horizontal) relativo a todos os sujeitos e a um dos \n",
    "landmarks (coordenada x ou y), por exemplo, variável x_54. Sugere-se o uso \n",
    "da biblioteca matplotlib.\n",
    "</span>"
   ]
  },
  {
   "cell_type": "markdown",
   "metadata": {},
   "source": [
    "# <span style=\"color:rgb(102, 227, 158)\">3.2. Resposta</span>"
   ]
  },
  {
   "cell_type": "code",
   "execution_count": null,
   "metadata": {},
   "outputs": [],
   "source": [
    "def groupby_numpy(array, groupby=-1):\n",
    "    labels = np.unique(array[:, groupby], return_index=True)\n",
    "    return labels[0],np.split(array[:,:groupby], labels[1][1:])"
   ]
  },
  {
   "cell_type": "code",
   "execution_count": null,
   "metadata": {},
   "outputs": [],
   "source": [
    "def plot_boxplot(grouped_data, target=''):\n",
    "\n",
    "    if target == '':\n",
    "        column = 0\n",
    "        target = 'x_0'\n",
    "    else:\n",
    "        column = int(target.split('_')[-1])\n",
    "        coordinate = target.split('_')[0]\n",
    "\n",
    "        if coordinate == 'y':\n",
    "            column += 68\n",
    "\n",
    "    bg_color = 'xkcd:midnight'\n",
    "    other_color = 'xkcd:lightblue'\n",
    "    colors = [\n",
    "              'xkcd:lightblue',\n",
    "              'xkcd:carolina blue',\n",
    "              'xkcd:greeny blue',\n",
    "              'xkcd:blue grey',\n",
    "              'xkcd:dark salmon',\n",
    "              'xkcd:twilight blue',\n",
    "              'xthresholdcd:royal purple',\n",
    "              'xthresholdcd:light tan',\n",
    "              ]\n",
    "    \n",
    "    data = [i[:,column] for i in grouped_data]\n",
    "\n",
    "    fig, ax = plt.subplots(figsize=(14,6))\n",
    "    fig.set_facecolor(bg_color)\n",
    "    ax.set_facecolor(bg_color)\n",
    "    ax.ticthreshold_params(axis='x', colors=bg_color,pad=20,size=10)\n",
    "    ax.ticthreshold_params(axis='y', colors=other_color,pad=20,size=10)\n",
    "    ax.spines['bottom'].set_color(bg_color)\n",
    "    ax.spines['left'].set_color(bg_color)\n",
    "    ax.spines['top'].set_color(bg_color)\n",
    "    ax.spines['right'].set_color(bg_color)\n",
    "   \n",
    "    plotted = ax.boxplot(\n",
    "                            data,\n",
    "                            patch_artist=True,\n",
    "                            widths=0.3,\n",
    "                            medianprops={\"color\":\"white\",\n",
    "                                        \"linewidth\": 0.5},\n",
    "                            boxprops={\"facecolor\": other_color,\n",
    "                                    \"edgecolor\": \"white\",\n",
    "                                    \"linewidth\": 0.5},\n",
    "                            whisthresholderprops={\"color\": other_color,\n",
    "                                        \"linewidth\": 1.5},\n",
    "                            capprops={\"color\": other_color},\n",
    "                            flierprops={'marthresholder':'o',\n",
    "                                        'marthresholderfacecolor':'xthresholdcd:dull red',\n",
    "                                        'marthresholdersize':9,\n",
    "                                        'linestyle':'none',\n",
    "                                        'marthresholderedgecolor':'xthresholdcd:sthresholdy',\n",
    "                                        'linewidth':1})\n",
    "        \n",
    "    ax.set_xticks([1,2,3,4,5,6,7,8], ['😶','😇 ','😁','😢','😡','😨','😾','😱',],fontsize=40)\n",
    "    ax.set_xlabel('Emoções',fontsize=12, labelpad=20,color=other_color)\n",
    "    ax.set_ylabel(f'coordenadas {target}',fontsize=12,labelpad=20,color=other_color)\n",
    "\n",
    "    for i,v in enumerate(ax.get_xticklabels()):\n",
    "        v.set_color(colors[i])\n",
    "\n",
    "    caps = plotted['caps']\n",
    "    caps = [caps[n:n+2] for n in range(0, len(caps), 2)]\n",
    "    boxes = plotted['boxes']\n",
    "    for i,items in enumerate(zip(caps,boxes)):\n",
    "        cap, box = items\n",
    "        for j in range(2):\n",
    "            cap[j].set(xdata=cap[j].get_xdata() + (-0.25,0.25), linewidth=2)\n",
    "        box.set(facecolor=colors[i])\n",
    "    \n",
    "    ax.set_xlim([0,9])\n",
    "    ax.set_title('Boxplot de emoções', fontsize=15, pad=100,color=other_color)\n",
    "\n",
    "    plt.show()"
   ]
  },
  {
   "cell_type": "code",
   "execution_count": null,
   "metadata": {},
   "outputs": [],
   "source": [
    "dados_emocoes = np.delete(dados_normalizados, -2, 1)"
   ]
  },
  {
   "cell_type": "code",
   "execution_count": null,
   "metadata": {},
   "outputs": [],
   "source": [
    "dados_emocoes"
   ]
  },
  {
   "cell_type": "code",
   "execution_count": null,
   "metadata": {},
   "outputs": [],
   "source": [
    "labels,dados_por_emocoes = groupby_numpy(dados_emocoes)"
   ]
  },
  {
   "cell_type": "code",
   "execution_count": null,
   "metadata": {},
   "outputs": [],
   "source": [
    "dados_por_emocoes[0].shape"
   ]
  },
  {
   "cell_type": "code",
   "execution_count": null,
   "metadata": {},
   "outputs": [],
   "source": [
    "plot_boxplot(dados_por_emocoes,'y_5')"
   ]
  },
  {
   "cell_type": "markdown",
   "metadata": {},
   "source": [
    "# "
   ]
  },
  {
   "cell_type": "markdown",
   "metadata": {},
   "source": [
    "# "
   ]
  },
  {
   "cell_type": "markdown",
   "metadata": {},
   "source": [
    "----------------------- "
   ]
  },
  {
   "cell_type": "markdown",
   "metadata": {},
   "source": [
    "# "
   ]
  },
  {
   "cell_type": "markdown",
   "metadata": {},
   "source": [
    "# "
   ]
  },
  {
   "cell_type": "markdown",
   "metadata": {},
   "source": [
    "# <span style=\"color:rgb(52, 192, 235)\">3.3. Questão</span>\n",
    "\n",
    "<span style=\"color:rgb(52, 192, 235)\">Analise e comente a densidade de Outliers existentes no dataset, isto é, \n",
    "para  cada  variável  em  função  da  emoção.  Observe  que  a  densidade  é \n",
    "determinada recorrendo: d = (n0/nr)*100, onde n0 é o número de pontos classificados como outliers e nr é o número \n",
    "total  de  pontos.  Esta  análise  deve  ser  feita  por  variável  e  por  emoção, \n",
    "reportando depois o valor médio e desvio padrão das densidades d obtidas \n",
    "entre as diferentes variáveis para cada emoção.\n",
    "</span>"
   ]
  },
  {
   "cell_type": "markdown",
   "metadata": {},
   "source": [
    "# <span style=\"color:rgb(102, 227, 158)\">3.3. Resposta</span>"
   ]
  },
  {
   "cell_type": "code",
   "execution_count": null,
   "metadata": {},
   "outputs": [],
   "source": [
    "def detecta_outlier_iqr(array):\n",
    "    q1 = np.quantile(array, 0.25)\n",
    "    q3 = np.quantile(array, 0.75)\n",
    "    iqr = q3-q1\n",
    "    \n",
    "    upper_bound = q3+(1.5*iqr)\n",
    "    lower_bound = q1-(1.5*iqr)\n",
    "    outliers = array[(array <= lower_bound) | (array >= upper_bound)]\n",
    "    return outliers"
   ]
  },
  {
   "cell_type": "code",
   "execution_count": null,
   "metadata": {},
   "outputs": [],
   "source": [
    "def detecta_outlier_density(array):\n",
    "    outliers = detecta_outlier_iqr(array)\n",
    "    densidade = (len(outliers)/len(array)) * 100\n",
    "    return densidade"
   ]
  },
  {
   "cell_type": "code",
   "execution_count": null,
   "metadata": {},
   "outputs": [],
   "source": [
    "def get_todos_outliers(dados_por_emocoes):\n",
    "    stats = {}\n",
    "    for i in range(8):\n",
    "        stats[i] = []\n",
    "        array = dados_por_emocoes[i]\n",
    "        for j in array.T:\n",
    "            stats[i].append(detecta_outlier_density(j))\n",
    "        stats[i] = np.array(stats[i])\n",
    "    return stats"
   ]
  },
  {
   "cell_type": "code",
   "execution_count": null,
   "metadata": {},
   "outputs": [],
   "source": [
    "def get_outlier_estatisticas(dados_por_emocoes):\n",
    "    stats = get_todos_outliers(dados_por_emocoes)\n",
    "    outlier_stats = {c:{'mean':i.mean(),'desvio padrao':i.std()} for c,i in stats.items()}\n",
    "    return outlier_stats"
   ]
  },
  {
   "cell_type": "code",
   "execution_count": null,
   "metadata": {},
   "outputs": [],
   "source": [
    "outlier_stats = get_outlier_estatisticas(dados_por_emocoes)"
   ]
  },
  {
   "cell_type": "code",
   "execution_count": null,
   "metadata": {},
   "outputs": [],
   "source": [
    "outlier_stats"
   ]
  },
  {
   "cell_type": "markdown",
   "metadata": {},
   "source": [
    "#"
   ]
  },
  {
   "cell_type": "markdown",
   "metadata": {},
   "source": [
    "#"
   ]
  },
  {
   "cell_type": "markdown",
   "metadata": {},
   "source": [
    "--------------------------"
   ]
  },
  {
   "cell_type": "markdown",
   "metadata": {},
   "source": [
    "#"
   ]
  },
  {
   "cell_type": "markdown",
   "metadata": {},
   "source": [
    "#"
   ]
  },
  {
   "cell_type": "markdown",
   "metadata": {},
   "source": [
    "# <span style=\"color:rgb(52, 192, 235)\">3.4. Questão</span>\n",
    "\n",
    "<span style=\"color:rgb(52, 192, 235)\">Escreva uma rotina que receba um Array de amostras de uma variável e \n",
    "identifique os outliers usando o teste Z-Score para um k variável (parâmetro \n",
    "de entrada).\n",
    "</span>"
   ]
  },
  {
   "cell_type": "markdown",
   "metadata": {},
   "source": [
    "# <span style=\"color:rgb(102, 227, 158)\">3.4. Resposta</span>"
   ]
  },
  {
   "cell_type": "code",
   "execution_count": null,
   "metadata": {},
   "outputs": [],
   "source": [
    "def detecta_outlier_zscore(array,k=3):\n",
    "    mean = array.mean()\n",
    "    std = array.std() \n",
    "    outliers = []\n",
    "    index = []\n",
    "    for c,i in enumerate(array): \n",
    "        z = abs((i-mean)/std)\n",
    "        if z > k: \n",
    "            outliers.append(i)\n",
    "            index.append(c)\n",
    "    return outliers"
   ]
  },
  {
   "cell_type": "markdown",
   "metadata": {},
   "source": [
    "#"
   ]
  },
  {
   "cell_type": "markdown",
   "metadata": {},
   "source": [
    "#"
   ]
  },
  {
   "cell_type": "markdown",
   "metadata": {},
   "source": [
    "-----------------------"
   ]
  },
  {
   "cell_type": "markdown",
   "metadata": {},
   "source": [
    "#"
   ]
  },
  {
   "cell_type": "markdown",
   "metadata": {},
   "source": [
    "#"
   ]
  },
  {
   "cell_type": "markdown",
   "metadata": {},
   "source": [
    "# <span style=\"color:rgb(52, 192, 235)\">3.5. Questão</span>\n",
    "\n",
    "<span style=\"color:rgb(52, 192, 235)\">Usando o Z-score implementado assinale todos as amostras consideradas \n",
    "outliers nas variáveis do dataset. Apresente plots em que estes pontos surgem \n",
    "a vermelho, enquanto que os restantes surgem a preto. Use k=3, 3.5 e 4.\n",
    "</span>"
   ]
  },
  {
   "cell_type": "markdown",
   "metadata": {},
   "source": [
    "# <span style=\"color:rgb(102, 227, 158)\">3.5. Resposta</span>"
   ]
  },
  {
   "cell_type": "code",
   "execution_count": null,
   "metadata": {},
   "outputs": [],
   "source": [
    "def plot_boxplot_zscore(grouped_data, target='',k=3):\n",
    "\n",
    "    if target == '':\n",
    "        column = 0\n",
    "        target = 'x_0'\n",
    "    else:\n",
    "        column = int(target.split('_')[-1])\n",
    "        coordinate = target.split('_')[0]\n",
    "\n",
    "        if coordinate == 'y':\n",
    "            column += 68\n",
    "\n",
    "    bg_color = 'xkcd:midnight'\n",
    "    other_color = 'xkcd:lightblue'\n",
    "    colors = [\n",
    "              'xkcd:lightblue',\n",
    "              'xkcd:carolina blue',\n",
    "              'xkcd:greeny blue',\n",
    "              'xkcd:blue grey',\n",
    "              'xkcd:dark salmon',\n",
    "              'xkcd:twilight blue',\n",
    "              'xkcd:royal purple',\n",
    "              'xkcd:light tan',\n",
    "              ]\n",
    "\n",
    "    data = [i[:,column] for i in grouped_data]\n",
    "\n",
    "    fig, ax = plt.subplots(figsize=(14,6))\n",
    "    fig.set_facecolor(bg_color)\n",
    "    ax.set_facecolor(bg_color)\n",
    "    ax.tick_params(axis='x', colors=bg_color,pad=20,size=10)\n",
    "    ax.tick_params(axis='y', colors=other_color,pad=20,size=10)\n",
    "    ax.spines['bottom'].set_color(bg_color)\n",
    "    ax.spines['left'].set_color(bg_color)\n",
    "    ax.spines['top'].set_color(bg_color)\n",
    "    ax.spines['right'].set_color(bg_color)\n",
    "\n",
    "    plotted = ax.boxplot(\n",
    "                            data,\n",
    "                            patch_artist=True,\n",
    "                            widths=0.3,\n",
    "                            medianprops={\"color\":\"white\",\n",
    "                                        \"linewidth\": 0.5},\n",
    "                            boxprops={\"facecolor\": other_color,\n",
    "                                    \"edgecolor\": \"white\",\n",
    "                                    \"linewidth\": 0.5},\n",
    "                            whiskerprops={\"color\": other_color,\n",
    "                                        \"linewidth\": 1.5},\n",
    "                            capprops={\"color\": other_color},\n",
    "                            flierprops={'marker':'o',\n",
    "                                        'markerfacecolor':'xkcd:dull red',\n",
    "                                        'markersize':9,\n",
    "                                        'linestyle':'none',\n",
    "                                        'markeredgecolor':'xkcd:sky',\n",
    "                                        'linewidth':1}, zorder=1)\n",
    "\n",
    "    ax.set_xticks([1,2,3,4,5,6,7,8], ['😶','😇 ','😁','😢','😡','😨','😾','😱',],fontsize=40)\n",
    "    ax.set_xlabel('Emoções',fontsize=12, labelpad=20,color=other_color)\n",
    "    ax.set_ylabel(f'coordenadas {target}',fontsize=12,labelpad=20,color=other_color)\n",
    "\n",
    "    for i,v in enumerate(ax.get_xticklabels()):\n",
    "        v.set_color(colors[i])\n",
    "\n",
    "    caps = plotted['caps']\n",
    "    caps = [caps[n:n+2] for n in range(0, len(caps), 2)]\n",
    "    boxes = plotted['boxes']\n",
    "    fliers = plotted['fliers']\n",
    "    for i,items in enumerate(zip(caps,boxes)):\n",
    "        cap, box = items\n",
    "        box.set(facecolor=colors[i])\n",
    "        x = fliers[i].get_xdata()\n",
    "        y = fliers[i].get_ydata()\n",
    "        outliers = detecta_outlier_zscore(y,k=k)\n",
    "        if outliers:\n",
    "            x = x[:len(outliers)]\n",
    "            ax.scatter(x,outliers,s=75, facecolors='xkcd:fluro green', linewidth=2, edgecolors='red', zorder=1+i)\n",
    "        for j in range(2):\n",
    "            cap[j].set(xdata=cap[j].get_xdata() + (-0.25,0.25), linewidth=2)\n",
    "        \n",
    "        \n",
    "    ax.set_xlim([0,9])\n",
    "    ax.set_title('Boxplot de emoções', fontsize=15, pad=100,color=other_color)\n",
    "\n",
    "    plt.show()"
   ]
  },
  {
   "cell_type": "code",
   "execution_count": null,
   "metadata": {},
   "outputs": [],
   "source": [
    "plot_boxplot_zscore(dados_por_emocoes,target='y_5',k=4)"
   ]
  },
  {
   "cell_type": "code",
   "execution_count": null,
   "metadata": {},
   "outputs": [],
   "source": [
    "plot_boxplot_zscore(dados_por_emocoes,target='y_5',k=3.5)"
   ]
  },
  {
   "cell_type": "code",
   "execution_count": null,
   "metadata": {},
   "outputs": [],
   "source": [
    "plot_boxplot_zscore(dados_por_emocoes,target='y_5',k=4)"
   ]
  },
  {
   "cell_type": "markdown",
   "metadata": {},
   "source": [
    "# <span style=\"color:rgb(207, 52, 235)\">3.5. Bónus</span>\n",
    "\n",
    "<span style=\"color:rgb(207, 52, 235)\">Repare que correr gráficos interativos no jupyter notebook não nos permite ter uma experiência boa devido ao delay. Sendo assim, na diretoria onde este notebook se encontra existe um script chamado slider_script.py que usa os dados sample \"dados_estruturados.npy\" para fazer um gráfico interativo (com melhor performance).</span>"
   ]
  },
  {
   "cell_type": "code",
   "execution_count": null,
   "metadata": {},
   "outputs": [],
   "source": [
    "# dados = np.load('dados_estruturados.npy')\n",
    "# dados_emocoes = np.delete(dados, -2, 1)\n",
    "# labels,dados_por_emocoes = groupby_numpy(dados_emocoes)"
   ]
  },
  {
   "cell_type": "code",
   "execution_count": null,
   "metadata": {},
   "outputs": [],
   "source": [
    "target='y_5'\n",
    "grouped_data = dados_por_emocoes\n",
    "k = 3\n",
    "\n",
    "if target == '':\n",
    "    column = 0\n",
    "    target = 'x_0'\n",
    "else:\n",
    "    column = int(target.split('_')[-1])\n",
    "    coordinate = target.split('_')[0]\n",
    "\n",
    "    if coordinate == 'y':\n",
    "        column += 68\n",
    "\n",
    "bg_color = 'xkcd:midnight'\n",
    "other_color = 'xkcd:lightblue'\n",
    "colors = [\n",
    "            'xkcd:lightblue',\n",
    "            'xkcd:carolina blue',\n",
    "            'xkcd:greeny blue',\n",
    "            'xkcd:blue grey',\n",
    "            'xkcd:dark salmon',\n",
    "            'xkcd:twilight blue',\n",
    "            'xkcd:royal purple',\n",
    "            'xkcd:light tan',\n",
    "            ]\n",
    "\n",
    "data = [i[:,column] for i in grouped_data]\n",
    "\n",
    "fig, (ax,ax1) = plt.subplots(figsize=(15,7),\n",
    "                             nrows=2,\n",
    "                             gridspec_kw=dict(height_ratios=[10,1],\n",
    "                                              hspace=1))\n",
    "fig.set_facecolor(bg_color)\n",
    "ax.set_facecolor(bg_color)\n",
    "ax.tick_params(axis='x', colors=bg_color,pad=20,size=10)\n",
    "ax.tick_params(axis='y', colors=other_color,pad=20,size=10)\n",
    "ax.spines['bottom'].set_color(bg_color)\n",
    "ax.spines['left'].set_color(bg_color)\n",
    "ax.spines['top'].set_color(bg_color)\n",
    "ax.spines['right'].set_color(bg_color)\n",
    "\n",
    "plotted = ax.boxplot(\n",
    "                        data,\n",
    "                        patch_artist=True,\n",
    "                        widths=0.3,\n",
    "                        medianprops={\"color\":\"white\",\n",
    "                                    \"linewidth\": 0.5},\n",
    "                        boxprops={\"facecolor\": other_color,\n",
    "                                \"edgecolor\": \"white\",\n",
    "                                \"linewidth\": 0.5},\n",
    "                        whiskerprops={\"color\": other_color,\n",
    "                                    \"linewidth\": 1.5},\n",
    "                        capprops={\"color\": other_color},\n",
    "                        flierprops={'marker':'o',\n",
    "                                    'markerfacecolor':'xkcd:dull red',\n",
    "                                    'markersize':9,\n",
    "                                    'linestyle':'none',\n",
    "                                    'markeredgecolor':'xkcd:sky',\n",
    "                                    'linewidth':1}, zorder=1)\n",
    "\n",
    "ax.set_xticks([1,2,3,4,5,6,7,8], ['😶','😇 ','😁','😢','😡','😨','😾','😱',],fontsize=40)\n",
    "ax.set_xlabel('Emoções',fontsize=12, labelpad=20,color=other_color)\n",
    "ax.set_ylabel(f'coordenadas {target}',fontsize=12,labelpad=20,color=other_color)\n",
    "\n",
    "for i,v in enumerate(ax.get_xticklabels()):\n",
    "    v.set_color(colors[i])\n",
    "\n",
    "caps = plotted['caps']\n",
    "caps = [caps[n:n+2] for n in range(0, len(caps), 2)]\n",
    "boxes = plotted['boxes']\n",
    "for i,items in enumerate(zip(caps,boxes)):\n",
    "    cap, box = items\n",
    "    box.set(facecolor=colors[i])\n",
    "    for j in range(2):\n",
    "        cap[j].set(xdata=cap[j].get_xdata() + (-0.25,0.25), linewidth=2)\n",
    "    \n",
    "    \n",
    "ax.set_xlim([0,9])\n",
    "ax.set_title('Boxplot de emoções', fontsize=15, pad=100,color=other_color)\n",
    "\n",
    "slider = Slider(ax1, \"K\", valmin=0, valmax=15)\n",
    "slider.valtext.set_color(other_color)\n",
    "slider.label.set_color(other_color)\n",
    "slider.label.set_size(20)\n",
    "\n",
    "def update(val):\n",
    "    ax.clear()\n",
    "    ax.set_facecolor(bg_color)\n",
    "    ax.tick_params(axis='x', colors=bg_color,pad=20,size=10)\n",
    "    ax.tick_params(axis='y', colors=other_color,pad=20,size=10)\n",
    "    ax.spines['bottom'].set_color(bg_color)\n",
    "    ax.spines['left'].set_color(bg_color)\n",
    "    ax.spines['top'].set_color(bg_color)\n",
    "    ax.spines['right'].set_color(bg_color)\n",
    "    plotted = ax.boxplot(\n",
    "                            data,\n",
    "                            patch_artist=True,\n",
    "                            widths=0.3,\n",
    "                            medianprops={\"color\":\"white\",\n",
    "                                        \"linewidth\": 0.5},\n",
    "                            boxprops={\"facecolor\": other_color,\n",
    "                                    \"edgecolor\": \"white\",\n",
    "                                    \"linewidth\": 0.5},\n",
    "                            whiskerprops={\"color\": other_color,\n",
    "                                        \"linewidth\": 1.5},\n",
    "                            capprops={\"color\": other_color},\n",
    "                            flierprops={'marker':'o',\n",
    "                                        'markerfacecolor':'xkcd:dull red',\n",
    "                                        'markersize':9,\n",
    "                                        'linestyle':'none',\n",
    "                                        'markeredgecolor':'xkcd:sky',\n",
    "                                        'linewidth':1}, zorder=1)\n",
    "    \n",
    "    ax.set_xticks([1,2,3,4,5,6,7,8], ['😶','😇 ','😁','😢','😡','😨','😾','😱',],fontsize=40)\n",
    "    ax.set_xlabel('Emoções',fontsize=12, labelpad=20,color=other_color)\n",
    "    ax.set_ylabel(f'coordenadas {target}',fontsize=12,labelpad=20,color=other_color)\n",
    "\n",
    "    for i,v in enumerate(ax.get_xticklabels()):\n",
    "        v.set_color(colors[i])\n",
    "\n",
    "    fliers = plotted['fliers']\n",
    "    for i in range(8):\n",
    "        x = fliers[i].get_xdata()\n",
    "        y = fliers[i].get_ydata()\n",
    "        outliers = detecta_outlier_zscore(y,k=val)\n",
    "        if outliers:\n",
    "            x = x[:len(outliers)]\n",
    "            ax.scatter(x,outliers,s=75, facecolors='xkcd:fluro green', linewidth=2, edgecolors='red', zorder=1+i)\n",
    "    ax.set_xlim([0,9])\n",
    "    ax.set_title('Boxplot de emoções', fontsize=15, pad=100,color=other_color)\n",
    "slider.on_changed(update)\n",
    "plt.show()"
   ]
  },
  {
   "cell_type": "markdown",
   "metadata": {},
   "source": [
    "#"
   ]
  },
  {
   "cell_type": "markdown",
   "metadata": {},
   "source": [
    "#"
   ]
  },
  {
   "cell_type": "markdown",
   "metadata": {},
   "source": [
    "------------------"
   ]
  },
  {
   "cell_type": "markdown",
   "metadata": {},
   "source": [
    "#"
   ]
  },
  {
   "cell_type": "markdown",
   "metadata": {},
   "source": [
    "#"
   ]
  },
  {
   "cell_type": "markdown",
   "metadata": {},
   "source": [
    "# <span style=\"color:rgb(52, 192, 235)\">3.6. Questão</span>\n",
    "\n",
    "<span style=\"color:rgb(52, 192, 235)\">Compare e discuta os resultados obtidos em 3.2 e 3.5.\n",
    "</span>"
   ]
  },
  {
   "cell_type": "markdown",
   "metadata": {},
   "source": [
    "# <span style=\"color:rgb(102, 227, 158)\">3.6. Resposta</span>"
   ]
  },
  {
   "cell_type": "markdown",
   "metadata": {},
   "source": [
    "#"
   ]
  },
  {
   "cell_type": "markdown",
   "metadata": {},
   "source": [
    "#"
   ]
  },
  {
   "cell_type": "markdown",
   "metadata": {},
   "source": [
    "------------------"
   ]
  },
  {
   "cell_type": "markdown",
   "metadata": {},
   "source": [
    "#"
   ]
  },
  {
   "cell_type": "markdown",
   "metadata": {},
   "source": [
    "#"
   ]
  },
  {
   "cell_type": "markdown",
   "metadata": {},
   "source": [
    "# <span style=\"color:rgb(52, 192, 235)\">3.7. Questão</span>\n",
    "\n",
    "<span style=\"color:rgb(52, 192, 235)\">Elabore uma rotina que implemente o algoritmo k-means para identificar n \n",
    "(valor de entrada) clusters, recebendo agora ambas as coordenadas de um \n",
    "landmark (x e y).\n",
    "</span>"
   ]
  },
  {
   "cell_type": "markdown",
   "metadata": {},
   "source": [
    "# <span style=\"color:rgb(102, 227, 158)\">3.7. Resposta</span>"
   ]
  },
  {
   "cell_type": "code",
   "execution_count": null,
   "metadata": {},
   "outputs": [],
   "source": [
    "def normalize_dados(dados):\n",
    "    x = dados[:68]\n",
    "    y = dados[68:]\n",
    "    x_ref = x[27]\n",
    "    x_max = 1280\n",
    "    y_ref = y[27]\n",
    "    y_max = 720\n",
    "    x = (x-x_ref)/x_max\n",
    "    y = (y-y_ref)/y_max\n",
    "    return np.concatenate((x,y), axis=0)"
   ]
  },
  {
   "cell_type": "code",
   "execution_count": null,
   "metadata": {},
   "outputs": [],
   "source": [
    "def plot_kmeans_threshold(dados,p,n_clusters,threshold=50):\n",
    "    x = p\n",
    "    y = p + 68\n",
    "    X = np.array(list(zip(dados[:,x],dados[:,y],range(len(dados[:,x])))))\n",
    "    kmeans = KMeans(n_clusters=n_clusters, random_state=0,init='random', n_init=\"auto\").fit(X[:,:2])\n",
    "    kmeans_labels_ = kmeans.labels_.tolist()\n",
    "    matplotlib_colors = list(mcolors.CSS4_COLORS.keys())\n",
    "\n",
    "\n",
    "    for i in range(n_clusters):\n",
    "        X_emotion = X[np.where(kmeans.labels_ == i)]\n",
    "        mean_x = round(X_emotion[:,0].mean(),2)\n",
    "        mean_y = round(X_emotion[:,1].mean(),2)\n",
    "        center = (mean_x,mean_y)\n",
    "        for j,point in enumerate(X_emotion[:,:2]):\n",
    "            dist = round(np.linalg.norm(center - point),2)\n",
    "            if dist > threshold:\n",
    "                kmeans_labels_[int(X_emotion[j,2])] = 'xkcd:dull red'\n",
    "            else:\n",
    "                kmeans_labels_[int(X_emotion[j,2])] = matplotlib_colors[i+20]\n",
    "\n",
    "    bg_color = 'xkcd:midnight'\n",
    "    other_color = 'xkcd:lightblue'\n",
    "    \n",
    "\n",
    "    fig,ax = plt.subplots(figsize=(8,8))\n",
    "    fig.set_facecolor(bg_color)\n",
    "    ax.set_facecolor(bg_color)\n",
    "    ax.tick_params(axis='x', colors=other_color,pad=20,size=10)\n",
    "    ax.tick_params(axis='y', colors=other_color,pad=20,size=10)\n",
    "    ax.spines['bottom'].set_color(bg_color)\n",
    "    ax.spines['left'].set_color(bg_color)\n",
    "    ax.spines['top'].set_color(bg_color)\n",
    "    ax.spines['right'].set_color(bg_color)\n",
    "    ax.scatter(X[:,0],X[:,1],c=kmeans_labels_)\n",
    "    plt.show()\n",
    "\n",
    "plot_kmeans_threshold(dados,30,8,threshold=100)"
   ]
  },
  {
   "cell_type": "code",
   "execution_count": null,
   "metadata": {},
   "outputs": [],
   "source": [
    "kmeans.cluster_centers_"
   ]
  },
  {
   "cell_type": "code",
   "execution_count": null,
   "metadata": {},
   "outputs": [],
   "source": [
    "a = np.array(['b','a','b','b','d','a','a','c','c'])\n",
    "_, idx = np.unique(a, return_index=True)\n",
    "print(a[np.sort(idx)])"
   ]
  },
  {
   "cell_type": "code",
   "execution_count": null,
   "metadata": {},
   "outputs": [],
   "source": [
    "def plot_kmeans(dados,p,n,size=200):\n",
    "    x = p\n",
    "    y = p + 68\n",
    "    X = np.array(list(zip(dados[:,x],dados[:,y],range(len(dados[:,x])))))\n",
    "\n",
    "    # second method\n",
    "\n",
    "    n_clusters = n**2\n",
    "    cx = np.linspace(X[:,0].min(),X[:,0].max(),n).astype(int)\n",
    "    cy = np.linspace(X[:,1].min(),X[:,1].max(),n).astype(int)\n",
    "    centers = np.zeros((n_clusters,2))\n",
    "    c = 0\n",
    "    for i in cx:\n",
    "        for j in cy:\n",
    "            centers[c,0] = i\n",
    "            centers[c,1] = j\n",
    "            c += 1\n",
    "    \n",
    "    kmeans = KMeans(n_clusters=n_clusters, random_state=0,init=centers, n_init=1).fit(X[:,:2])\n",
    "    kmeans_labels_ = kmeans.labels_\n",
    "    # _, idx = np.unique(kmeans_labels_, return_index=True)\n",
    "    # kmeans_labels_unique = kmeans_labels_[np.sort(idx)]\n",
    "    matplotlib_colors = list(mcolors.CSS4_COLORS.keys())\n",
    "    cluster_size = []\n",
    "\n",
    "    # for i in kmeans_labels_unique:\n",
    "    #     X_emotion = X[np.where(kmeans.labels_ == i)]\n",
    "    #     cluster_size.append(len(X_emotion))\n",
    "    \n",
    "    for i in kmeans_labels_:\n",
    "        X_emotion = X[np.where(kmeans.labels_ == i)]\n",
    "        if len(X_emotion) < size:\n",
    "            # kmeans_labels_[int(X_emotion[i,2])] = 'xkcd:dull red'\n",
    "            kmeans_labels_ = list(map(lambda x: 'xkcd:dull red' if x == i else x,kmeans_labels_))\n",
    "        else:\n",
    "            # kmeans_labels_[int(X_emotion[i,2])] = matplotlib_colors[i+20]\n",
    "            kmeans_labels_ = list(map(lambda x: matplotlib_colors[i+60] if x == i else x,kmeans_labels_))\n",
    "\n",
    "    bg_color = 'xkcd:midnight'\n",
    "    other_color = 'xkcd:lightblue'\n",
    "    colors = [\n",
    "                'xkcd:lightblue',\n",
    "                'xkcd:carolina blue',\n",
    "                'xkcd:greeny blue',\n",
    "                'xkcd:blue grey',\n",
    "                'xkcd:dark salmon',\n",
    "                'xkcd:twilight blue',\n",
    "                'xkcd:royal purple',\n",
    "                'xkcd:light tan',\n",
    "                ]\n",
    "\n",
    "    fig,ax = plt.subplots(figsize=(8,8))\n",
    "    fig.set_facecolor(bg_color)\n",
    "    ax.set_facecolor(bg_color)\n",
    "    ax.tick_params(axis='x', colors=other_color,pad=20,size=10)\n",
    "    ax.tick_params(axis='y', colors=other_color,pad=20,size=10)\n",
    "    ax.spines['bottom'].set_color(bg_color)\n",
    "    ax.spines['left'].set_color(bg_color)\n",
    "    ax.spines['top'].set_color(bg_color)\n",
    "    ax.spines['right'].set_color(bg_color)\n",
    "    ax.scatter(X[:,0],X[:,1],c=kmeans_labels_,alpha=0.9)\n",
    "    # ax.scatter(X[:,0],X[:,1])\n",
    "    # for i,txt in zip(kmeans.cluster_centers_,cluster_size):\n",
    "    #     plt.text(i[0], i[1],s=txt,ha=\"center\",va=\"center\")\n",
    "    plt.show()\n",
    "    \n",
    "plot_kmeans(dados,30,5,size=5000)"
   ]
  },
  {
   "cell_type": "code",
   "execution_count": null,
   "metadata": {},
   "outputs": [],
   "source": [
    "l"
   ]
  },
  {
   "cell_type": "code",
   "execution_count": null,
   "metadata": {},
   "outputs": [],
   "source": [
    "plot_kmeans(dados,p=30,clusters=8)"
   ]
  },
  {
   "cell_type": "code",
   "execution_count": null,
   "metadata": {},
   "outputs": [],
   "source": [
    "X = np.array(list(zip(dados[:,0],dados[:,68])))"
   ]
  },
  {
   "cell_type": "code",
   "execution_count": null,
   "metadata": {},
   "outputs": [],
   "source": [
    "n = 5\n",
    "clusters = n**2\n",
    "spacing = int((X[:,0].max()-X[:,0].min()) / n)\n",
    "cx = np.linspace(X[:,0].min(),X[:,0].max(),n).astype(int)\n",
    "cy = np.linspace(X[:,1].min(),X[:,1].max(),n).astype(int)\n",
    "centers = np.zeros((clusters,2))\n",
    "c = 0\n",
    "for i in cx:\n",
    "    for j in cy:\n",
    "        centers[c,0] = i\n",
    "        centers[c,1] = j\n",
    "        c += 1"
   ]
  },
  {
   "cell_type": "code",
   "execution_count": null,
   "metadata": {},
   "outputs": [],
   "source": [
    "list(range(int(X[:,0].min()),int(X[:,0].max()),spacing))"
   ]
  },
  {
   "cell_type": "code",
   "execution_count": null,
   "metadata": {},
   "outputs": [],
   "source": [
    "np.zeros((2,2))"
   ]
  },
  {
   "cell_type": "code",
   "execution_count": null,
   "metadata": {},
   "outputs": [],
   "source": []
  },
  {
   "cell_type": "code",
   "execution_count": null,
   "metadata": {},
   "outputs": [],
   "source": []
  },
  {
   "cell_type": "code",
   "execution_count": null,
   "metadata": {},
   "outputs": [],
   "source": []
  },
  {
   "cell_type": "code",
   "execution_count": null,
   "metadata": {},
   "outputs": [],
   "source": []
  },
  {
   "cell_type": "code",
   "execution_count": null,
   "metadata": {},
   "outputs": [],
   "source": []
  },
  {
   "cell_type": "code",
   "execution_count": null,
   "metadata": {},
   "outputs": [],
   "source": []
  },
  {
   "cell_type": "code",
   "execution_count": null,
   "metadata": {},
   "outputs": [],
   "source": [
    "X = np.array(list(zip(dados[:,0],dados[:,68],range(len(dados[:,0])))))\n",
    "kmeans = KMeans(n_clusters=8, random_state=0, n_init=\"auto\").fit(X)"
   ]
  },
  {
   "cell_type": "code",
   "execution_count": null,
   "metadata": {},
   "outputs": [],
   "source": [
    "k = 10\n",
    "cluster_number = len(kmeans.cluster_centers_)\n",
    "for i in range(cluster_number):\n",
    "    X_emotion = X[np.where(kmeans.labels_ == i)]\n",
    "    mean_x = round(X_emotion[:,0].mean(),2)\n",
    "    mean_y = round(X_emotion[:,1].mean(),2)\n",
    "    center = (mean_x,mean_y)\n",
    "    outlier_index = []\n",
    "    for j,point in enumerate(X_emotion[:,:2]):\n",
    "        dist = round(np.linalg.norm(center - point),2)\n",
    "        if dist > k:\n",
    "            outlier_index.append(X_emotion[j,2])"
   ]
  },
  {
   "cell_type": "code",
   "execution_count": null,
   "metadata": {},
   "outputs": [],
   "source": [
    "for i in X[:,:2]:\n",
    "    "
   ]
  },
  {
   "cell_type": "code",
   "execution_count": null,
   "metadata": {},
   "outputs": [],
   "source": [
    "len(outlier_index)"
   ]
  },
  {
   "cell_type": "code",
   "execution_count": null,
   "metadata": {},
   "outputs": [],
   "source": [
    "dist"
   ]
  },
  {
   "cell_type": "code",
   "execution_count": null,
   "metadata": {},
   "outputs": [],
   "source": []
  },
  {
   "cell_type": "code",
   "execution_count": null,
   "metadata": {},
   "outputs": [],
   "source": []
  },
  {
   "cell_type": "code",
   "execution_count": null,
   "metadata": {},
   "outputs": [],
   "source": []
  },
  {
   "cell_type": "code",
   "execution_count": null,
   "metadata": {},
   "outputs": [],
   "source": []
  },
  {
   "cell_type": "code",
   "execution_count": null,
   "metadata": {},
   "outputs": [],
   "source": []
  },
  {
   "cell_type": "code",
   "execution_count": null,
   "metadata": {},
   "outputs": [],
   "source": [
    "data = [np.array(list(zip(i[:,0],i[:,68]))) for i in dados_por_emocoes]"
   ]
  },
  {
   "cell_type": "code",
   "execution_count": null,
   "metadata": {},
   "outputs": [],
   "source": [
    "X = list(zip(dados_normalizados[:,0],dados_normalizados[:,68]))"
   ]
  },
  {
   "cell_type": "code",
   "execution_count": null,
   "metadata": {},
   "outputs": [],
   "source": [
    "dados_kmeans = [list(zip(v[:68],v[68:])) for v in dados_normalizados[:,:-2]]\n",
    "emocoes = dados_normalizados[:,-1]"
   ]
  },
  {
   "cell_type": "code",
   "execution_count": null,
   "metadata": {},
   "outputs": [],
   "source": [
    "dados_kmeans[0]"
   ]
  },
  {
   "cell_type": "code",
   "execution_count": null,
   "metadata": {},
   "outputs": [],
   "source": [
    "data = [np.array(list(zip(i[:,x],i[:,y]))) for i in dados_por_emocoes]\n",
    "X = data[1]\n",
    "kmeans = KMeans(n_clusters=8, random_state=0, n_init=\"auto\").fit(X)"
   ]
  },
  {
   "cell_type": "code",
   "execution_count": null,
   "metadata": {},
   "outputs": [],
   "source": [
    "len(kmeans.cluster_centers_)"
   ]
  },
  {
   "cell_type": "code",
   "execution_count": null,
   "metadata": {},
   "outputs": [],
   "source": [
    "kmeans_labels = kmeans.labels_"
   ]
  },
  {
   "cell_type": "code",
   "execution_count": null,
   "metadata": {},
   "outputs": [],
   "source": [
    "kmeans_labels[np.where(kmeans_labels == 1)]"
   ]
  },
  {
   "cell_type": "code",
   "execution_count": null,
   "metadata": {},
   "outputs": [],
   "source": [
    "kmeans_labels = kmeans.labels_\n",
    "cluster_number = len(kmeans.cluster_centers_)\n",
    "for i in range(cluster_number):\n",
    "    X[np.where(kmeans_labels == i)]"
   ]
  },
  {
   "cell_type": "code",
   "execution_count": null,
   "metadata": {},
   "outputs": [],
   "source": [
    "np.concatenate((X,kmeans.labels_.reshape(-1,1)),1)"
   ]
  },
  {
   "cell_type": "code",
   "execution_count": null,
   "metadata": {},
   "outputs": [],
   "source": [
    "kmeans.labels_[-1]"
   ]
  },
  {
   "cell_type": "code",
   "execution_count": null,
   "metadata": {},
   "outputs": [],
   "source": [
    "groupby_numpy(np.concatenate((X,kmeans.labels_.reshape(-1,1)),1),-1)[1]"
   ]
  },
  {
   "cell_type": "code",
   "execution_count": null,
   "metadata": {},
   "outputs": [],
   "source": []
  }
 ],
 "metadata": {
  "kernelspec": {
   "display_name": "EA",
   "language": "python",
   "name": "python3"
  },
  "language_info": {
   "codemirror_mode": {
    "name": "ipython",
    "version": 3
   },
   "file_extension": ".py",
   "mimetype": "text/x-python",
   "name": "python",
   "nbconvert_exporter": "python",
   "pygments_lexer": "ipython3",
   "version": "3.11.6"
  }
 },
 "nbformat": 4,
 "nbformat_minor": 4
}
