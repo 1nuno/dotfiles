{
 "cells": [
  {
   "cell_type": "code",
   "execution_count": 2,
   "metadata": {},
   "outputs": [
    {
     "ename": "TypeError",
     "evalue": "request() got multiple values for argument 'method'",
     "output_type": "error",
     "traceback": [
      "\u001b[0;31m---------------------------------------------------------------------------\u001b[0m",
      "\u001b[0;31mTypeError\u001b[0m                                 Traceback (most recent call last)",
      "\u001b[1;32m/home/1nuno/Desktop/professional/byTheLaw/scrapers/jurisprudencia brasil/tjsc.ipynb Cell 1\u001b[0m line \u001b[0;36m2\n\u001b[1;32m      <a href='vscode-notebook-cell:/home/1nuno/Desktop/professional/byTheLaw/scrapers/jurisprudencia%20brasil/tjsc.ipynb#W0sZmlsZQ%3D%3D?line=6'>7</a>\u001b[0m headers \u001b[39m=\u001b[39m {\n\u001b[1;32m      <a href='vscode-notebook-cell:/home/1nuno/Desktop/professional/byTheLaw/scrapers/jurisprudencia%20brasil/tjsc.ipynb#W0sZmlsZQ%3D%3D?line=7'>8</a>\u001b[0m     \u001b[39m\"\u001b[39m\u001b[39mUser-Agent\u001b[39m\u001b[39m\"\u001b[39m: \u001b[39m\"\u001b[39m\u001b[39mMozilla/5.0 (X11; Linux x86_64; rv:109.0) Gecko/20100101 Firefox/119.0\u001b[39m\u001b[39m\"\u001b[39m,\n\u001b[1;32m      <a href='vscode-notebook-cell:/home/1nuno/Desktop/professional/byTheLaw/scrapers/jurisprudencia%20brasil/tjsc.ipynb#W0sZmlsZQ%3D%3D?line=8'>9</a>\u001b[0m     \u001b[39m\"\u001b[39m\u001b[39mAccept\u001b[39m\u001b[39m\"\u001b[39m: \u001b[39m\"\u001b[39m\u001b[39mtext/plain, */*; q=0.01\u001b[39m\u001b[39m\"\u001b[39m,\n\u001b[0;32m   (...)\u001b[0m\n\u001b[1;32m     <a href='vscode-notebook-cell:/home/1nuno/Desktop/professional/byTheLaw/scrapers/jurisprudencia%20brasil/tjsc.ipynb#W0sZmlsZQ%3D%3D?line=20'>21</a>\u001b[0m     \u001b[39m\"\u001b[39m\u001b[39mCache-Control\u001b[39m\u001b[39m\"\u001b[39m: \u001b[39m\"\u001b[39m\u001b[39mno-cache\u001b[39m\u001b[39m\"\u001b[39m\n\u001b[1;32m     <a href='vscode-notebook-cell:/home/1nuno/Desktop/professional/byTheLaw/scrapers/jurisprudencia%20brasil/tjsc.ipynb#W0sZmlsZQ%3D%3D?line=21'>22</a>\u001b[0m }\n\u001b[1;32m     <a href='vscode-notebook-cell:/home/1nuno/Desktop/professional/byTheLaw/scrapers/jurisprudencia%20brasil/tjsc.ipynb#W0sZmlsZQ%3D%3D?line=22'>23</a>\u001b[0m payload \u001b[39m=\u001b[39m \u001b[39mf\u001b[39m\u001b[39m\"\u001b[39m\u001b[39m=q%3D&=only_ementa%3D&=frase%3D&=excluir%3D&=qualquer%3D&=%3D&=prox1%3D&=prox2%3D&=proxc%3D&sort=dtJulgamento%2Bdesc&ps=50&busca=avancada&pg=1&flapto=1&datainicial=01%2F11%2F1900&datafinal=12%2F11%2F2023&radio_campo=ementa&categoria%5B%5D=acordaos&categoria%5B%5D=acma&categoria%5B%5D=recurso&faceta=false\u001b[39m\u001b[39m\"\u001b[39m\n\u001b[0;32m---> <a href='vscode-notebook-cell:/home/1nuno/Desktop/professional/byTheLaw/scrapers/jurisprudencia%20brasil/tjsc.ipynb#W0sZmlsZQ%3D%3D?line=23'>24</a>\u001b[0m res \u001b[39m=\u001b[39m requests\u001b[39m.\u001b[39;49mget(url\u001b[39m=\u001b[39;49murl, headers\u001b[39m=\u001b[39;49mheaders, method\u001b[39m=\u001b[39;49m\u001b[39m\"\u001b[39;49m\u001b[39mPOST\u001b[39;49m\u001b[39m\"\u001b[39;49m, body\u001b[39m=\u001b[39;49mpayload)\n\u001b[1;32m     <a href='vscode-notebook-cell:/home/1nuno/Desktop/professional/byTheLaw/scrapers/jurisprudencia%20brasil/tjsc.ipynb#W0sZmlsZQ%3D%3D?line=24'>25</a>\u001b[0m response \u001b[39m=\u001b[39m TextResponse(res\u001b[39m.\u001b[39murl, body\u001b[39m=\u001b[39mres\u001b[39m.\u001b[39mtext, encoding\u001b[39m=\u001b[39m\u001b[39m'\u001b[39m\u001b[39mutf-8\u001b[39m\u001b[39m'\u001b[39m)\n",
      "File \u001b[0;32m~/Desktop/virtual_envs/jurispru-bra/lib/python3.11/site-packages/requests/api.py:73\u001b[0m, in \u001b[0;36mget\u001b[0;34m(url, params, **kwargs)\u001b[0m\n\u001b[1;32m     62\u001b[0m \u001b[39mdef\u001b[39;00m \u001b[39mget\u001b[39m(url, params\u001b[39m=\u001b[39m\u001b[39mNone\u001b[39;00m, \u001b[39m*\u001b[39m\u001b[39m*\u001b[39mkwargs):\n\u001b[1;32m     63\u001b[0m \u001b[39m    \u001b[39m\u001b[39mr\u001b[39m\u001b[39m\"\"\"Sends a GET request.\u001b[39;00m\n\u001b[1;32m     64\u001b[0m \n\u001b[1;32m     65\u001b[0m \u001b[39m    :param url: URL for the new :class:`Request` object.\u001b[39;00m\n\u001b[0;32m   (...)\u001b[0m\n\u001b[1;32m     70\u001b[0m \u001b[39m    :rtype: requests.Response\u001b[39;00m\n\u001b[1;32m     71\u001b[0m \u001b[39m    \"\"\"\u001b[39;00m\n\u001b[0;32m---> 73\u001b[0m     \u001b[39mreturn\u001b[39;00m request(\u001b[39m\"\u001b[39;49m\u001b[39mget\u001b[39;49m\u001b[39m\"\u001b[39;49m, url, params\u001b[39m=\u001b[39;49mparams, \u001b[39m*\u001b[39;49m\u001b[39m*\u001b[39;49mkwargs)\n",
      "\u001b[0;31mTypeError\u001b[0m: request() got multiple values for argument 'method'"
     ]
    }
   ],
   "source": [
    "import requests\n",
    "from scrapy.http import TextResponse, Request\n",
    "\n",
    "\n",
    "\n",
    "url = \"https://busca.tjsc.jus.br/jurisprudencia/buscaajax.do\"\n",
    "headers = {\n",
    "    \"User-Agent\": \"Mozilla/5.0 (X11; Linux x86_64; rv:109.0) Gecko/20100101 Firefox/119.0\",\n",
    "    \"Accept\": \"text/plain, */*; q=0.01\",\n",
    "    \"Accept-Language\": \"en-US,en;q=0.5\",\n",
    "    \"Accept-Encoding\": \"gzip, deflate, br\",\n",
    "    \"Content-Type\": \"application/x-www-form-urlencoded; charset=UTF-8\",\n",
    "    \"X-Requested-With\": \"XMLHttpRequest\",\n",
    "    \"Origin\": \"https://busca.tjsc.jus.br\",\n",
    "    \"Connection\": \"keep-alive\",\n",
    "    \"Cookie\": \"JSESSIONID=208A8812E6F464B7E0008C6E03F6BB9F\",\n",
    "    \"Sec-Fetch-Dest\": \"empty\",\n",
    "    \"Sec-Fetch-Mode\": \"cors\",\n",
    "    \"Sec-Fetch-Site\": \"same-origin\",\n",
    "    \"Pragma\": \"no-cache\",\n",
    "    \"Cache-Control\": \"no-cache\"\n",
    "}\n",
    "payload = f\"=q%3D&=only_ementa%3D&=frase%3D&=excluir%3D&=qualquer%3D&=%3D&=prox1%3D&=prox2%3D&=proxc%3D&sort=dtJulgamento%2Bdesc&ps=50&busca=avancada&pg=1&flapto=1&datainicial=01%2F11%2F1900&datafinal=12%2F11%2F2023&radio_campo=ementa&categoria%5B%5D=acordaos&categoria%5B%5D=acma&categoria%5B%5D=recurso&faceta=false\"\n",
    "res = requests.get(url=url, headers=headers, method=\"POST\", body=payload)\n",
    "response = TextResponse(res.url, body=res.text, encoding='utf-8')"
   ]
  }
 ],
 "metadata": {
  "kernelspec": {
   "display_name": "jurispru-bra",
   "language": "python",
   "name": "python3"
  },
  "language_info": {
   "codemirror_mode": {
    "name": "ipython",
    "version": 3
   },
   "file_extension": ".py",
   "mimetype": "text/x-python",
   "name": "python",
   "nbconvert_exporter": "python",
   "pygments_lexer": "ipython3",
   "version": "3.11.6"
  }
 },
 "nbformat": 4,
 "nbformat_minor": 2
}
