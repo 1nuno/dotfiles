{
 "cells": [
  {
   "cell_type": "code",
   "execution_count": 25,
   "metadata": {},
   "outputs": [],
   "source": [
    "import requests\n",
    "from scrapy.http import TextResponse, Request\n",
    "\n",
    "\n",
    "\n",
    "url = \"https://busca.tjsc.jus.br/jurisprudencia/buscaajax.do\"\n",
    "headers = {\n",
    "    \"User-Agent\": \"Mozilla/5.0 (X11; Linux x86_64; rv:109.0) Gecko/20100101 Firefox/119.0\",\n",
    "    \"Accept\": \"text/plain, */*; q=0.01\",\n",
    "    \"Accept-Language\": \"en-US,en;q=0.5\",\n",
    "    \"Accept-Encoding\": \"gzip, deflate, br\",\n",
    "    \"Content-Type\": \"application/x-www-form-urlencoded; charset=UTF-8\",\n",
    "    \"X-Requested-With\": \"XMLHttpRequest\",\n",
    "    \"Origin\": \"https://busca.tjsc.jus.br\",\n",
    "    \"Connection\": \"keep-alive\",\n",
    "    \"Cookie\": \"JSESSIONID=208A8812E6F464B7E0008C6E03F6BB9F\",\n",
    "    \"Sec-Fetch-Dest\": \"empty\",\n",
    "    \"Sec-Fetch-Mode\": \"cors\",\n",
    "    \"Sec-Fetch-Site\": \"same-origin\",\n",
    "    \"Pragma\": \"no-cache\",\n",
    "    \"Cache-Control\": \"no-cache\"\n",
    "}\n",
    "payload = f\"=q%3D&=only_ementa%3D&=frase%3D&=excluir%3D&=qualquer%3D&=%3D&=prox1%3D&=prox2%3D&=proxc%3D&sort=dtJulgamento%2Bdesc&ps=50&busca=avancada&pg=1&flapto=1&datainicial=01%2F08%2F1995&datafinal=31%2F08%2F1995&radio_campo=ementa&categoria%5B%5D=acordaos&categoria%5B%5D=acma&categoria%5B%5D=recurso&faceta=false\"\n",
    "res = requests.post(url=url, headers=headers, data=payload)\n",
    "response = TextResponse(res.url, body=res.text, encoding='utf-8')"
   ]
  },
  {
   "cell_type": "code",
   "execution_count": 12,
   "metadata": {},
   "outputs": [
    {
     "data": {
      "text/plain": [
       "'\\r\\n\\r\\n    \\r\\n    \\r\\n    \\r\\n \\r\\n    ###inicio_paginacao###\\r\\n    \\r\\n\\r\\n\\r\\n\\r\\n\\r\\n\\r\\n \\r\\n    ###fim_paginacao###\\r\\n    \\r\\n    \\r\\n    \\r\\n    ###inicio_resultado###\\r\\n      \\r\\n  \\r\\n  \\r\\n\\r\\n\\r\\n\\r\\n\\r\\n\\r\\n\\r\\n\\r\\n\\r\\n\\r\\n\\r\\n\\r\\n\\r\\n\\r\\n   \\r\\n\\t\\r\\n\\r\\n\\r\\n\\r\\n\\r\\n  <br/>  <br/>  <br/>  <br/>\\r\\n\\r\\n\\t\\r\\n\\t\\r\\n\\t\\t<div style=\"background-color: white;height: 190px;border: solid #C5C2B9 1px; width: 900px;padding-top:20px;padding-left:20px;font-weight: bold;\">\\r\\n\\t\\t\\t\\r\\n\\t\\t\\tConsiderando que o sistema não encontrou resultados, analise os itens a seguir: <br/>\\r\\n\\t\\t\\t<br/><br/>\\r\\n\\t\\t\\t<ul>\\r\\n\\t\\t\\t\\t<li>Verifique se os termos pesquisados estão bem formulados e a sintaxe de busca está correta; <br/></li>\\r\\n\\t\\t\\t\\t<li>Caso ainda não tenha domínio da ferramenta, assista nossa <a href=\"ajuda.jsp\">videoaula explicativa</a>; <br/></li>\\r\\n\\t\\t\\t\\t<li>Analise se a abrangência de busca está de acordo com o desejado. Use \"Ementa\" para buscar no resumo do documento e \"Inteiro Teor\" para buscas na íntegra do documento; <br/></li>\\r\\n\\t\\t\\t\\t\\r\\n\\t\\t\\t</ul>\\r\\n\\t\\t</div>\\r\\n\\r\\n\\r\\n\\t\\r\\n\\r\\n\\r\\n\\r\\n\\r\\n\\r\\n\\r\\n    ###fim_resultado###     \\r\\n    \\r\\n    \\r\\n    '"
      ]
     },
     "execution_count": 12,
     "metadata": {},
     "output_type": "execute_result"
    }
   ],
   "source": [
    "response.text"
   ]
  },
  {
   "cell_type": "code",
   "execution_count": 31,
   "metadata": {},
   "outputs": [
    {
     "data": {
      "text/plain": [
       "['https://busca.tjsc.jus.br/jurisprudencia/html.do?q=&only_ementa=&frase=&id=AAAbmQAABAAHWdGAAJ&categoria=acordao',\n",
       " 'https://busca.tjsc.jus.br/jurisprudencia/html.do?q=&only_ementa=&frase=&id=119254&categoria=atr',\n",
       " 'https://busca.tjsc.jus.br/jurisprudencia/html.do?q=&only_ementa=&frase=&id=119255&categoria=atr',\n",
       " 'https://busca.tjsc.jus.br/jurisprudencia/html.do?q=&only_ementa=&frase=&id=AAAbmQAABAAHSIfAAC&categoria=acordao',\n",
       " 'https://busca.tjsc.jus.br/jurisprudencia/html.do?q=&only_ementa=&frase=&id=AAAbmQAABAAHSIfAAD&categoria=acordao',\n",
       " 'https://busca.tjsc.jus.br/jurisprudencia/html.do?q=&only_ementa=&frase=&id=AAAbmQAABAAHSKoAAD&categoria=acordao',\n",
       " 'https://busca.tjsc.jus.br/jurisprudencia/html.do?q=&only_ementa=&frase=&id=AAAbmQAABAADolxAAE&categoria=acordao',\n",
       " 'https://busca.tjsc.jus.br/jurisprudencia/html.do?q=&only_ementa=&frase=&id=AAAbmQAABAADolxAAG&categoria=acordao',\n",
       " 'https://busca.tjsc.jus.br/jurisprudencia/html.do?q=&only_ementa=&frase=&id=AAAbmQAABAAHe12AAA&categoria=acordao',\n",
       " 'https://busca.tjsc.jus.br/jurisprudencia/html.do?q=&only_ementa=&frase=&id=AAAbmQAABAAHQHXAAE&categoria=acordao',\n",
       " 'https://busca.tjsc.jus.br/jurisprudencia/html.do?q=&only_ementa=&frase=&id=AAAbmQAABAAHSKoAAA&categoria=acordao',\n",
       " 'https://busca.tjsc.jus.br/jurisprudencia/html.do?q=&only_ementa=&frase=&id=AAAbmQAABAAHSKoAAB&categoria=acordao',\n",
       " 'https://busca.tjsc.jus.br/jurisprudencia/html.do?q=&only_ementa=&frase=&id=AAAbmQAABAAHSKoAAC&categoria=acordao',\n",
       " 'https://busca.tjsc.jus.br/jurisprudencia/html.do?q=&only_ementa=&frase=&id=AAAbmQAABAAHQDZAAC&categoria=acordao',\n",
       " 'https://busca.tjsc.jus.br/jurisprudencia/html.do?q=&only_ementa=&frase=&id=AAAbmQAABAAHSLcAAF&categoria=acordao',\n",
       " 'https://busca.tjsc.jus.br/jurisprudencia/html.do?q=&only_ementa=&frase=&id=111365&categoria=atr',\n",
       " 'https://busca.tjsc.jus.br/jurisprudencia/html.do?q=&only_ementa=&frase=&id=AAAbmQAABAAHSITAAE&categoria=acordao',\n",
       " 'https://busca.tjsc.jus.br/jurisprudencia/html.do?q=&only_ementa=&frase=&id=AAAbmQAABAAHQDNAAI&categoria=acordao',\n",
       " 'https://busca.tjsc.jus.br/jurisprudencia/html.do?q=&only_ementa=&frase=&id=AAAbmQAABAAHQDRAAA&categoria=acordao',\n",
       " 'https://busca.tjsc.jus.br/jurisprudencia/html.do?q=&only_ementa=&frase=&id=AAAbmQAAAAAPmB1AAE&categoria=acordao',\n",
       " 'https://busca.tjsc.jus.br/jurisprudencia/html.do?q=&only_ementa=&frase=&id=AAAbmQAABAAAJ/MAAE&categoria=acordao',\n",
       " 'https://busca.tjsc.jus.br/jurisprudencia/html.do?q=&only_ementa=&frase=&id=AAAbmQAABAAE5EsAAC&categoria=acordao',\n",
       " 'https://busca.tjsc.jus.br/jurisprudencia/html.do?q=&only_ementa=&frase=&id=AAAbmQAABAAESuzAAD&categoria=acordao',\n",
       " 'https://busca.tjsc.jus.br/jurisprudencia/html.do?q=&only_ementa=&frase=&id=AAAbmQAABAAESfSAAE&categoria=acordao',\n",
       " 'https://busca.tjsc.jus.br/jurisprudencia/html.do?q=&only_ementa=&frase=&id=AAAbmQAABAADnfrAAH&categoria=acordao',\n",
       " 'https://busca.tjsc.jus.br/jurisprudencia/html.do?q=&only_ementa=&frase=&id=AAAbmQAABAAHM30AAF&categoria=acordao',\n",
       " 'https://busca.tjsc.jus.br/jurisprudencia/html.do?q=&only_ementa=&frase=&id=AAAbmQAABAAHSIPAAF&categoria=acordao',\n",
       " 'https://busca.tjsc.jus.br/jurisprudencia/html.do?q=&only_ementa=&frase=&id=120071&categoria=atr',\n",
       " 'https://busca.tjsc.jus.br/jurisprudencia/html.do?q=&only_ementa=&frase=&id=119232&categoria=atr',\n",
       " 'https://busca.tjsc.jus.br/jurisprudencia/html.do?q=&only_ementa=&frase=&id=119233&categoria=atr',\n",
       " 'https://busca.tjsc.jus.br/jurisprudencia/html.do?q=&only_ementa=&frase=&id=119234&categoria=atr',\n",
       " 'https://busca.tjsc.jus.br/jurisprudencia/html.do?q=&only_ementa=&frase=&id=AAAbmQAABAAHOtzAAC&categoria=acordao',\n",
       " 'https://busca.tjsc.jus.br/jurisprudencia/html.do?q=&only_ementa=&frase=&id=AAAbmQAABAAHOqcAAA&categoria=acordao',\n",
       " 'https://busca.tjsc.jus.br/jurisprudencia/html.do?q=&only_ementa=&frase=&id=AAAbmQAABAAHOqcAAB&categoria=acordao',\n",
       " 'https://busca.tjsc.jus.br/jurisprudencia/html.do?q=&only_ementa=&frase=&id=AAAbmQAABAAAtYMAAA&categoria=acordao',\n",
       " 'https://busca.tjsc.jus.br/jurisprudencia/html.do?q=&only_ementa=&frase=&id=AAAbmQAABAABfRoAAB&categoria=acordao',\n",
       " 'https://busca.tjsc.jus.br/jurisprudencia/html.do?q=&only_ementa=&frase=&id=AAAbmQAABAADohaAAD&categoria=acordao',\n",
       " 'https://busca.tjsc.jus.br/jurisprudencia/html.do?q=&only_ementa=&frase=&id=AAAbmQAABAAESnbAAJ&categoria=acordao',\n",
       " 'https://busca.tjsc.jus.br/jurisprudencia/html.do?q=&only_ementa=&frase=&id=AAAbmQAABAAHOqYAAE&categoria=acordao',\n",
       " 'https://busca.tjsc.jus.br/jurisprudencia/html.do?q=&only_ementa=&frase=&id=AAAbmQAABAAHMzHAAG&categoria=acordao',\n",
       " 'https://busca.tjsc.jus.br/jurisprudencia/html.do?q=&only_ementa=&frase=&id=121355&categoria=atr',\n",
       " 'https://busca.tjsc.jus.br/jurisprudencia/html.do?q=&only_ementa=&frase=&id=121267&categoria=atr',\n",
       " 'https://busca.tjsc.jus.br/jurisprudencia/html.do?q=&only_ementa=&frase=&id=121268&categoria=atr',\n",
       " 'https://busca.tjsc.jus.br/jurisprudencia/html.do?q=&only_ementa=&frase=&id=121289&categoria=atr',\n",
       " 'https://busca.tjsc.jus.br/jurisprudencia/html.do?q=&only_ementa=&frase=&id=121243&categoria=atr',\n",
       " 'https://busca.tjsc.jus.br/jurisprudencia/html.do?q=&only_ementa=&frase=&id=AAAbmQAABAAHMzDAAD&categoria=acordao',\n",
       " 'https://busca.tjsc.jus.br/jurisprudencia/html.do?q=&only_ementa=&frase=&id=119420&categoria=atr',\n",
       " 'https://busca.tjsc.jus.br/jurisprudencia/html.do?q=&only_ementa=&frase=&id=119156&categoria=atr',\n",
       " 'https://busca.tjsc.jus.br/jurisprudencia/html.do?q=&only_ementa=&frase=&id=119157&categoria=atr',\n",
       " 'https://busca.tjsc.jus.br/jurisprudencia/html.do?q=&only_ementa=&frase=&id=119160&categoria=atr']"
      ]
     },
     "execution_count": 31,
     "metadata": {},
     "output_type": "execute_result"
    }
   ],
   "source": [
    "all_links = [\"https://busca.tjsc.jus.br/jurisprudencia/\" + i for i in response.xpath('//div[@class=\"resultados\"]//div[@class=\"icones\"]//a[starts-with(@href, \"html\")]/@href').getall()]\n",
    "all_links"
   ]
  },
  {
   "cell_type": "code",
   "execution_count": 35,
   "metadata": {},
   "outputs": [],
   "source": [
    "res2 = requests.get(url='https://busca.tjsc.jus.br/jurisprudencia/html.do?q=&only_ementa=&frase=&id=119353&categoria=atr', headers=headers)\n",
    "response2 = TextResponse(res2.url, body=res2.text, encoding='utf-8')"
   ]
  },
  {
   "cell_type": "code",
   "execution_count": 6,
   "metadata": {},
   "outputs": [],
   "source": [
    "import datetime\n",
    "import time"
   ]
  },
  {
   "cell_type": "code",
   "execution_count": 22,
   "metadata": {},
   "outputs": [
    {
     "data": {
      "text/plain": [
       "True"
      ]
     },
     "execution_count": 22,
     "metadata": {},
     "output_type": "execute_result"
    }
   ],
   "source": [
    "datetime.datetime.now().date()  datetime.datetime(1995, 7, 31).date()"
   ]
  },
  {
   "cell_type": "code",
   "execution_count": 24,
   "metadata": {},
   "outputs": [
    {
     "data": {
      "text/plain": [
       "datetime.datetime(1995, 7, 31, 0, 0)"
      ]
     },
     "execution_count": 24,
     "metadata": {},
     "output_type": "execute_result"
    }
   ],
   "source": [
    "datetime.datetime(1995, 7, 31)"
   ]
  },
  {
   "cell_type": "code",
   "execution_count": 23,
   "metadata": {},
   "outputs": [
    {
     "data": {
      "text/plain": [
       "datetime.date(2023, 11, 15)"
      ]
     },
     "execution_count": 23,
     "metadata": {},
     "output_type": "execute_result"
    }
   ],
   "source": [
    "datetime.datetime.now().date()"
   ]
  },
  {
   "cell_type": "code",
   "execution_count": 7,
   "metadata": {},
   "outputs": [
    {
     "data": {
      "text/plain": [
       "3"
      ]
     },
     "execution_count": 7,
     "metadata": {},
     "output_type": "execute_result"
    }
   ],
   "source": [
    "beginning_time = datetime.datetime.now()\n",
    "time.sleep(3)\n",
    "ending_time = datetime.datetime.now()\n",
    "duration = ending_time - beginning_time\n",
    "duration.seconds"
   ]
  },
  {
   "cell_type": "code",
   "execution_count": 55,
   "metadata": {},
   "outputs": [
    {
     "data": {
      "text/plain": [
       "'https://busca.tjsc.jus.br/jurisprudencia/html.do?q=&only_ementa=&frase=&id=321698866214201162369237357047&categoria=acordao_eproc'"
      ]
     },
     "execution_count": 55,
     "metadata": {},
     "output_type": "execute_result"
    }
   ],
   "source": [
    "response2.url"
   ]
  },
  {
   "cell_type": "code",
   "execution_count": 38,
   "metadata": {},
   "outputs": [
    {
     "data": {
      "text/plain": [
       "['Processo:',\n",
       " 'Relator:',\n",
       " 'Origem:',\n",
       " 'Orgão Julgador:',\n",
       " 'Julgado em:',\n",
       " 'Classe:']"
      ]
     },
     "execution_count": 38,
     "metadata": {},
     "output_type": "execute_result"
    }
   ],
   "source": [
    "response2.xpath(\"//div[@class='resultados']//strong/text()\").getall()"
   ]
  },
  {
   "cell_type": "code",
   "execution_count": 39,
   "metadata": {},
   "outputs": [],
   "source": [
    "ref = ['Processo:',\n",
    " 'Relator:',\n",
    " 'Origem:',\n",
    " 'Orgão Julgador:',\n",
    " 'Julgado em:',\n",
    " 'Classe:']"
   ]
  },
  {
   "cell_type": "code",
   "execution_count": 42,
   "metadata": {},
   "outputs": [
    {
     "data": {
      "text/plain": [
       "['Processo', 'Relator', 'Origem', 'Orgão Julgador', 'Julgado em', 'Classe']"
      ]
     },
     "execution_count": 42,
     "metadata": {},
     "output_type": "execute_result"
    }
   ],
   "source": [
    "[i.strip().strip(':') for i in response2.xpath(\"//div[@class='resultados']//strong/text()\").getall() if i in ref]"
   ]
  },
  {
   "cell_type": "code",
   "execution_count": 43,
   "metadata": {},
   "outputs": [
    {
     "data": {
      "text/plain": [
       "{'Processo': '426 (Acordão do Conselho da Magistratura)',\n",
       " 'Relator': 'Jânio Machado',\n",
       " 'Origem': 'Criciúma',\n",
       " 'Orgão Julgador': 'Quarta Turma de Recursos - Criciúma',\n",
       " 'Julgado em': '09/11/1995',\n",
       " 'Classe': 'Apelação Cível'}"
      ]
     },
     "execution_count": 43,
     "metadata": {},
     "output_type": "execute_result"
    }
   ],
   "source": [
    "\n",
    "data = {j.strip().strip(':'):i.strip() for i,j in zip(response2.xpath(\"//div[@class='resultados']//strong/following-sibling::text()[1]\").getall(),\n",
    "                                     response2.xpath(\"//div[@class='resultados']//strong/text()\").getall()) if j in ref}\n",
    "data"
   ]
  },
  {
   "cell_type": "code",
   "execution_count": 47,
   "metadata": {},
   "outputs": [],
   "source": [
    "# with open('teste.txt', 'a') as f:\n",
    "#     f.write(''.join([i.strip() if len(i.strip()) > 0 else '\\n' for i in response2.xpath('//div[@class=\"integra_paragrafo\"]//text()').getall()]))"
   ]
  },
  {
   "cell_type": "code",
   "execution_count": 10,
   "metadata": {},
   "outputs": [
    {
     "data": {
      "text/plain": [
       "15"
      ]
     },
     "execution_count": 10,
     "metadata": {},
     "output_type": "execute_result"
    }
   ],
   "source": [
    "page_num = int(response.xpath('//div[@id=\"paginacao\"]').xpath('//p[contains(text(),\"Página\")]//text()').get().split('de')[-1].strip())\n",
    "page_num"
   ]
  }
 ],
 "metadata": {
  "kernelspec": {
   "display_name": "jurispru-bra",
   "language": "python",
   "name": "python3"
  },
  "language_info": {
   "codemirror_mode": {
    "name": "ipython",
    "version": 3
   },
   "file_extension": ".py",
   "mimetype": "text/x-python",
   "name": "python",
   "nbconvert_exporter": "python",
   "pygments_lexer": "ipython3",
   "version": "3.11.6"
  }
 },
 "nbformat": 4,
 "nbformat_minor": 2
}
