{
 "cells": [
  {
   "cell_type": "code",
   "execution_count": 9,
   "metadata": {},
   "outputs": [],
   "source": [
    "import requests\n",
    "from scrapy.http import TextResponse, Request\n",
    "\n",
    "\n",
    "\n",
    "url = \"https://busca.tjsc.jus.br/jurisprudencia/buscaajax.do\"\n",
    "headers = {\n",
    "    \"User-Agent\": \"Mozilla/5.0 (X11; Linux x86_64; rv:109.0) Gecko/20100101 Firefox/119.0\",\n",
    "    \"Accept\": \"text/plain, */*; q=0.01\",\n",
    "    \"Accept-Language\": \"en-US,en;q=0.5\",\n",
    "    \"Accept-Encoding\": \"gzip, deflate, br\",\n",
    "    \"Content-Type\": \"application/x-www-form-urlencoded; charset=UTF-8\",\n",
    "    \"X-Requested-With\": \"XMLHttpRequest\",\n",
    "    \"Origin\": \"https://busca.tjsc.jus.br\",\n",
    "    \"Connection\": \"keep-alive\",\n",
    "    \"Cookie\": \"JSESSIONID=208A8812E6F464B7E0008C6E03F6BB9F\",\n",
    "    \"Sec-Fetch-Dest\": \"empty\",\n",
    "    \"Sec-Fetch-Mode\": \"cors\",\n",
    "    \"Sec-Fetch-Site\": \"same-origin\",\n",
    "    \"Pragma\": \"no-cache\",\n",
    "    \"Cache-Control\": \"no-cache\"\n",
    "}\n",
    "payload = f\"=q%3D&=only_ementa%3D&=frase%3D&=excluir%3D&=qualquer%3D&=%3D&=prox1%3D&=prox2%3D&=proxc%3D&sort=dtJulgamento%2Bdesc&ps=50&busca=avancada&pg=1&flapto=1&datainicial=01%2F11%2F2023&datafinal=01%2F11%2F2023&radio_campo=ementa&categoria%5B%5D=acordaos&categoria%5B%5D=acma&categoria%5B%5D=recurso&faceta=false\"\n",
    "res = requests.post(url=url, headers=headers, data=payload)\n",
    "response = TextResponse(res.url, body=res.text, encoding='utf-8')"
   ]
  },
  {
   "cell_type": "code",
   "execution_count": 26,
   "metadata": {},
   "outputs": [
    {
     "data": {
      "text/plain": [
       "['https://busca.tjsc.jus.br/jurisprudencia/html.do?q=&only_ementa=&frase=&id=321698866214201162369237357047&categoria=acordao_eproc',\n",
       " 'https://busca.tjsc.jus.br/jurisprudencia/html.do?q=&only_ementa=&frase=&id=321698866214201162369237450974&categoria=acordao_eproc',\n",
       " 'https://busca.tjsc.jus.br/jurisprudencia/html.do?q=&only_ementa=&frase=&id=321698866214201162369237528150&categoria=acordao_eproc',\n",
       " 'https://busca.tjsc.jus.br/jurisprudencia/html.do?q=&only_ementa=&frase=&id=321698868631190550429299210983&categoria=acordao_eproc',\n",
       " 'https://busca.tjsc.jus.br/jurisprudencia/html.do?q=&only_ementa=&frase=&id=321698868631190550429299302024&categoria=acordao_eproc',\n",
       " 'https://busca.tjsc.jus.br/jurisprudencia/html.do?q=&only_ementa=&frase=&id=321698868631190550429299397243&categoria=acordao_eproc',\n",
       " 'https://busca.tjsc.jus.br/jurisprudencia/html.do?q=&only_ementa=&frase=&id=321698868631190550429299494458&categoria=acordao_eproc',\n",
       " 'https://busca.tjsc.jus.br/jurisprudencia/html.do?q=&only_ementa=&frase=&id=321698866214201162369237637654&categoria=acordao_eproc',\n",
       " 'https://busca.tjsc.jus.br/jurisprudencia/html.do?q=&only_ementa=&frase=&id=321698866214201162369237801479&categoria=acordao_eproc',\n",
       " 'https://busca.tjsc.jus.br/jurisprudencia/html.do?q=&only_ementa=&frase=&id=321698866214201162369237895841&categoria=acordao_eproc',\n",
       " 'https://busca.tjsc.jus.br/jurisprudencia/html.do?q=&only_ementa=&frase=&id=321698866214201162369237987019&categoria=acordao_eproc',\n",
       " 'https://busca.tjsc.jus.br/jurisprudencia/html.do?q=&only_ementa=&frase=&id=321698868631190550429299591984&categoria=acordao_eproc',\n",
       " 'https://busca.tjsc.jus.br/jurisprudencia/html.do?q=&only_ementa=&frase=&id=321698868631190550429299712870&categoria=acordao_eproc',\n",
       " 'https://busca.tjsc.jus.br/jurisprudencia/html.do?q=&only_ementa=&frase=&id=321698868631190550429299800884&categoria=acordao_eproc',\n",
       " 'https://busca.tjsc.jus.br/jurisprudencia/html.do?q=&only_ementa=&frase=&id=321698866214201162369238093323&categoria=acordao_eproc',\n",
       " 'https://busca.tjsc.jus.br/jurisprudencia/html.do?q=&only_ementa=&frase=&id=321698866214201162369238187217&categoria=acordao_eproc',\n",
       " 'https://busca.tjsc.jus.br/jurisprudencia/html.do?q=&only_ementa=&frase=&id=321698866214201162369238275145&categoria=acordao_eproc',\n",
       " 'https://busca.tjsc.jus.br/jurisprudencia/html.do?q=&only_ementa=&frase=&id=321698866214201162369238373524&categoria=acordao_eproc',\n",
       " 'https://busca.tjsc.jus.br/jurisprudencia/html.do?q=&only_ementa=&frase=&id=321698868631190550429299907927&categoria=acordao_eproc',\n",
       " 'https://busca.tjsc.jus.br/jurisprudencia/html.do?q=&only_ementa=&frase=&id=321698868631190550429300014971&categoria=acordao_eproc',\n",
       " 'https://busca.tjsc.jus.br/jurisprudencia/html.do?q=&only_ementa=&frase=&id=321698866214201162369238478524&categoria=acordao_eproc',\n",
       " 'https://busca.tjsc.jus.br/jurisprudencia/html.do?q=&only_ementa=&frase=&id=321698866214201162369238582079&categoria=acordao_eproc',\n",
       " 'https://busca.tjsc.jus.br/jurisprudencia/html.do?q=&only_ementa=&frase=&id=321698868631190550429295575453&categoria=acordao_eproc',\n",
       " 'https://busca.tjsc.jus.br/jurisprudencia/html.do?q=&only_ementa=&frase=&id=321698868631190550429295691495&categoria=acordao_eproc',\n",
       " 'https://busca.tjsc.jus.br/jurisprudencia/html.do?q=&only_ementa=&frase=&id=321698868631190550429300115694&categoria=acordao_eproc',\n",
       " 'https://busca.tjsc.jus.br/jurisprudencia/html.do?q=&only_ementa=&frase=&id=321698868631190550429300295533&categoria=acordao_eproc',\n",
       " 'https://busca.tjsc.jus.br/jurisprudencia/html.do?q=&only_ementa=&frase=&id=321698868631190550429300398176&categoria=acordao_eproc',\n",
       " 'https://busca.tjsc.jus.br/jurisprudencia/html.do?q=&only_ementa=&frase=&id=321698868631190550429295788364&categoria=acordao_eproc',\n",
       " 'https://busca.tjsc.jus.br/jurisprudencia/html.do?q=&only_ementa=&frase=&id=321698868631190550429295881267&categoria=acordao_eproc',\n",
       " 'https://busca.tjsc.jus.br/jurisprudencia/html.do?q=&only_ementa=&frase=&id=321698868631190550429295976041&categoria=acordao_eproc',\n",
       " 'https://busca.tjsc.jus.br/jurisprudencia/html.do?q=&only_ementa=&frase=&id=321698868631190550429300636842&categoria=acordao_eproc',\n",
       " 'https://busca.tjsc.jus.br/jurisprudencia/html.do?q=&only_ementa=&frase=&id=321698868631190550429300747522&categoria=acordao_eproc',\n",
       " 'https://busca.tjsc.jus.br/jurisprudencia/html.do?q=&only_ementa=&frase=&id=321698866214201162369238681180&categoria=acordao_eproc',\n",
       " 'https://busca.tjsc.jus.br/jurisprudencia/html.do?q=&only_ementa=&frase=&id=321698866214201162369238787518&categoria=acordao_eproc',\n",
       " 'https://busca.tjsc.jus.br/jurisprudencia/html.do?q=&only_ementa=&frase=&id=321698868631190550429296082801&categoria=acordao_eproc',\n",
       " 'https://busca.tjsc.jus.br/jurisprudencia/html.do?q=&only_ementa=&frase=&id=321698868631190550429296190149&categoria=acordao_eproc',\n",
       " 'https://busca.tjsc.jus.br/jurisprudencia/html.do?q=&only_ementa=&frase=&id=321698868631190550429300841617&categoria=acordao_eproc',\n",
       " 'https://busca.tjsc.jus.br/jurisprudencia/html.do?q=&only_ementa=&frase=&id=321698868631190550429300952813&categoria=acordao_eproc',\n",
       " 'https://busca.tjsc.jus.br/jurisprudencia/html.do?q=&only_ementa=&frase=&id=321698866214201162369238894993&categoria=acordao_eproc',\n",
       " 'https://busca.tjsc.jus.br/jurisprudencia/html.do?q=&only_ementa=&frase=&id=321698866214201162369239003599&categoria=acordao_eproc',\n",
       " 'https://busca.tjsc.jus.br/jurisprudencia/html.do?q=&only_ementa=&frase=&id=321698866214201162369239122097&categoria=acordao_eproc',\n",
       " 'https://busca.tjsc.jus.br/jurisprudencia/html.do?q=&only_ementa=&frase=&id=321698868631190550429296287144&categoria=acordao_eproc',\n",
       " 'https://busca.tjsc.jus.br/jurisprudencia/html.do?q=&only_ementa=&frase=&id=321698868631190550429296386278&categoria=acordao_eproc',\n",
       " 'https://busca.tjsc.jus.br/jurisprudencia/html.do?q=&only_ementa=&frase=&id=321698868631190550429301058268&categoria=acordao_eproc',\n",
       " 'https://busca.tjsc.jus.br/jurisprudencia/html.do?q=&only_ementa=&frase=&id=321698868631190550429301153919&categoria=acordao_eproc',\n",
       " 'https://busca.tjsc.jus.br/jurisprudencia/html.do?q=&only_ementa=&frase=&id=321698866214201162369239217156&categoria=acordao_eproc',\n",
       " 'https://busca.tjsc.jus.br/jurisprudencia/html.do?q=&only_ementa=&frase=&id=321698866214201162369239328351&categoria=acordao_eproc',\n",
       " 'https://busca.tjsc.jus.br/jurisprudencia/html.do?q=&only_ementa=&frase=&id=321698868631190550429296494413&categoria=acordao_eproc',\n",
       " 'https://busca.tjsc.jus.br/jurisprudencia/html.do?q=&only_ementa=&frase=&id=321698868631190550429296597139&categoria=acordao_eproc',\n",
       " 'https://busca.tjsc.jus.br/jurisprudencia/html.do?q=&only_ementa=&frase=&id=321698868631190550429301272713&categoria=acordao_eproc']"
      ]
     },
     "execution_count": 26,
     "metadata": {},
     "output_type": "execute_result"
    }
   ],
   "source": [
    "all_links = [\"https://busca.tjsc.jus.br/jurisprudencia/\" + i for i in response.xpath('//div[@class=\"resultados\"]//div[@class=\"icones\"][2]/a/@href').getall()]\n",
    "all_links"
   ]
  },
  {
   "cell_type": "code",
   "execution_count": 29,
   "metadata": {},
   "outputs": [],
   "source": [
    "res2 = requests.get(url=all_links[0], headers=headers)\n",
    "response2 = TextResponse(res2.url, body=res2.text, encoding='utf-8')"
   ]
  },
  {
   "cell_type": "code",
   "execution_count": 55,
   "metadata": {},
   "outputs": [
    {
     "data": {
      "text/plain": [
       "'https://busca.tjsc.jus.br/jurisprudencia/html.do?q=&only_ementa=&frase=&id=321698866214201162369237357047&categoria=acordao_eproc'"
      ]
     },
     "execution_count": 55,
     "metadata": {},
     "output_type": "execute_result"
    }
   ],
   "source": [
    "response2.url"
   ]
  },
  {
   "cell_type": "code",
   "execution_count": 50,
   "metadata": {},
   "outputs": [
    {
     "data": {
      "text/plain": [
       "['Processo', 'Relator', 'Origem', 'Orgão Julgador', 'Julgado em', 'Classe']"
      ]
     },
     "execution_count": 50,
     "metadata": {},
     "output_type": "execute_result"
    }
   ],
   "source": [
    "[i.strip().strip(':') for i in response2.xpath(\"//div[@class='resultados']//strong/text()\").getall()[:-2]]"
   ]
  },
  {
   "cell_type": "code",
   "execution_count": 54,
   "metadata": {},
   "outputs": [
    {
     "data": {
      "text/plain": [
       "{'Processo': '5088281-55.2022.8.24.0930 (Acórdão do Tribunal de Justiça)',\n",
       " 'Relator': 'Gilberto Gomes de Oliveira',\n",
       " 'Origem': 'Tribunal de Justiça de Santa Catarina',\n",
       " 'Orgão Julgador': 'Terceira Câmara de Direito Comercial',\n",
       " 'Julgado em': '01/11/2023',\n",
       " 'Classe': 'Apelação'}"
      ]
     },
     "execution_count": 54,
     "metadata": {},
     "output_type": "execute_result"
    }
   ],
   "source": [
    "\n",
    "data = {j.strip().strip(':'):i.strip() for i,j in zip(response2.xpath(\"//div[@class='resultados']//strong/following-sibling::text()[1]\").getall()[:-2],\n",
    "                                     response2.xpath(\"//div[@class='resultados']//strong/text()\").getall()[:-2])}\n",
    "data"
   ]
  },
  {
   "cell_type": "code",
   "execution_count": 47,
   "metadata": {},
   "outputs": [],
   "source": [
    "# with open('teste.txt', 'a') as f:\n",
    "#     f.write(''.join([i.strip() if len(i.strip()) > 0 else '\\n' for i in response2.xpath('//div[@class=\"integra_paragrafo\"]//text()').getall()]))"
   ]
  },
  {
   "cell_type": "code",
   "execution_count": 10,
   "metadata": {},
   "outputs": [
    {
     "data": {
      "text/plain": [
       "15"
      ]
     },
     "execution_count": 10,
     "metadata": {},
     "output_type": "execute_result"
    }
   ],
   "source": [
    "page_num = int(response.xpath('//div[@id=\"paginacao\"]').xpath('//p[contains(text(),\"Página\")]//text()').get().split('de')[-1].strip())\n",
    "page_num"
   ]
  }
 ],
 "metadata": {
  "kernelspec": {
   "display_name": "jurispru-bra",
   "language": "python",
   "name": "python3"
  },
  "language_info": {
   "codemirror_mode": {
    "name": "ipython",
    "version": 3
   },
   "file_extension": ".py",
   "mimetype": "text/x-python",
   "name": "python",
   "nbconvert_exporter": "python",
   "pygments_lexer": "ipython3",
   "version": "3.11.6"
  }
 },
 "nbformat": 4,
 "nbformat_minor": 2
}
